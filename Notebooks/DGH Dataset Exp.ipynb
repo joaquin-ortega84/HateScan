{
 "cells": [
  {
   "cell_type": "code",
   "execution_count": 2,
   "metadata": {},
   "outputs": [],
   "source": [
    "import pandas as pd"
   ]
  },
  {
   "cell_type": "code",
   "execution_count": 65,
   "metadata": {},
   "outputs": [
    {
     "data": {
      "text/plain": [
       "array(['original'], dtype=object)"
      ]
     },
     "execution_count": 65,
     "metadata": {},
     "output_type": "execute_result"
    }
   ],
   "source": [
    "df = pd.read_csv('../data/as download/Dynamically Generated Hate Dataset v0.2.3.csv')\n",
    "df.columns\n",
    "df = df[df['level'] == 'original']\n",
    "df['level'].unique()"
   ]
  },
  {
   "cell_type": "code",
   "execution_count": 66,
   "metadata": {},
   "outputs": [],
   "source": [
    "df = df.rename(columns={'label': 'HateLabel', 'text': 'TweetText'}).drop(columns=['Unnamed: 0','X1', 'split', 'round.base', 'annotator', 'round', 'acl.id.matched','type', 'level'])\n",
    "relabel = {0:2,1:1,2:0}\n",
    "\n",
    "df.replace({'HateLabel': relabel}, inplace=True)"
   ]
  },
  {
   "cell_type": "code",
   "execution_count": 70,
   "metadata": {},
   "outputs": [],
   "source": [
    "val_drop = ['none','notgiven','notargetrecorded']\n",
    "df = df[~df['target'].isin(val_drop)]"
   ]
  },
  {
   "cell_type": "code",
   "execution_count": 68,
   "metadata": {},
   "outputs": [],
   "source": [
    "religion = ['mus','jew']\n",
    "race = ['bla', 'bla.wom','pol','mixed.race','arab', 'asi.chin', 'non.white', \n",
    "        'indig', 'asi','african','asi.pak','pol','pol, eastern.europe','hispanic'\n",
    "        ,'asi.chin','bla','ethnic.minority', 'jew, ethnic.minority']\n",
    "gender = ['wom']\n",
    "political = ['immig', 'asylum','hitler']\n",
    "lgbqt = ['trav','gay','trans','trans, lgbtq'] # could be part of gender\n",
    "idk = ['dis']"
   ]
  },
  {
   "cell_type": "code",
   "execution_count": 69,
   "metadata": {},
   "outputs": [
    {
     "data": {
      "text/plain": [
       "array(['dis', 'trav', 'mus', 'trans', 'jew', 'for', 'bla', 'asi.south',\n",
       "       'asi.east', 'mixed.race', 'gendermin', 'immig', 'gay', 'gay.wom',\n",
       "       'arab', 'gay.man', 'wom', 'asi.chin', 'non.white', 'ref', 'asylum',\n",
       "       'indig', 'asi', 'african', 'bla.wom', 'asi.pak', 'bla.man', 'bis',\n",
       "       'mus.wom', 'asi.wom', 'indig.wom', 'notargetrecorded', 'pol',\n",
       "       'pol, eastern.europe', 'asi.man', 'hispanic', 'hitler',\n",
       "       'mixed.race, non.white', 'bla.wom, asi.chin',\n",
       "       'dis, bla, trans, mixed.race, gay', 'dis, gay', 'dis, bla', 'wc',\n",
       "       'wom, bla.wom', 'trans, wom', 'mus, asi.pak', 'eastern.europe',\n",
       "       'pol, arab', 'bla, wom', 'russian', 'ethnic.minority',\n",
       "       'gay.wom, gay.man', 'wom, pol', 'mus, arab', 'nazis',\n",
       "       'gay, gay.wom', 'trans, lgbtq', 'asi.south, immig',\n",
       "       'trans, gendermin', 'other.national', 'trans, gay, gay.wom, bis',\n",
       "       'trav, wom', 'mixed.race, asi.chin', 'mus, jew', 'wom, gay.man',\n",
       "       'old.people', 'mus, immig', 'jew, ethnic.minority', 'bla, jew',\n",
       "       'immig, ref', 'trans, gay.man', 'dis, bla, wom', 'jew, non.white',\n",
       "       'mus, bla, trans, jew', 'bla, gay', 'wom, gay',\n",
       "       'bla, asi.south, arab, asi.pak', 'bla, bla.wom', 'bla, bla.man',\n",
       "       'bla, gay.man', 'mixed.race, immig', 'jew, immig',\n",
       "       'immig, ref, asylum', 'immig, non.white', 'bla, asi, hispanic',\n",
       "       'bla, arab, hispanic, non.white', 'for, non.white',\n",
       "       'mus, non.white', 'bla, mixed.race', 'wom, jew, non.white',\n",
       "       'jew, bla.man', 'dis, african',\n",
       "       'bla, asi.south, asi.chin, non.white, asi.pak', 'asi, non.white',\n",
       "       'mus, mus.wom', 'for, immig', 'bla, immig', 'bla, hispanic',\n",
       "       'for, bla.man', 'bla.wom, bla.man', 'arab, african',\n",
       "       'asi.south, hispanic', 'jew, asi, non.white', 'bla, non.white',\n",
       "       'dis, wom', 'immig, hispanic', 'gay, non.white',\n",
       "       'hispanic, non.white', 'mus, wom', 'asi.south, asi',\n",
       "       'wom, asi.south', 'wom, mus.wom', 'bla, jew, asi',\n",
       "       'bla, jew, asi, non.white', 'bla, jew, mixed.race, asi',\n",
       "       'trav, wc', 'wom, non.white', 'wom, jew, gay', 'wom, for',\n",
       "       'trans, gay', 'indig, non.white, african', 'dis, gay.wom, gay.man',\n",
       "       'bla.wom, non.white, asi.wom', 'mus, bla', 'gay, gay.wom, bis',\n",
       "       'trans, gay.wom, gay.man', 'bla.wom, asi.south, mixed.race',\n",
       "       'bla, jew, hispanic', 'dis, mixed.race, non.white',\n",
       "       'trans, wom, gendermin, gay', 'bla, trans',\n",
       "       'trans, gendermin, bis', 'dis, mixed.race',\n",
       "       'mixed.race, arab, hispanic, non.white', 'bla, jew, gay',\n",
       "       'dis, ref', 'dis, ethnic.minority', 'bla, jew, gay.man',\n",
       "       'immig, asylum', 'wom, gendermin', 'trans, wom, jew, gay, bis',\n",
       "       'ethnic.minority, immig', 'arab, ref', 'jew, gay',\n",
       "       'mus, jew, immig', 'bla.wom, jew', 'jew, asi.chin', 'wom, asi',\n",
       "       'bla, for, ref', 'bla, ref', 'jew, arab', 'gendermin, arab',\n",
       "       'bla, jew, arab', 'dis, immig', 'dis, asi.chin', 'trans, wom, gay',\n",
       "       'bla, asi.wom', 'asi, asi.wom', 'mixed.race, asi',\n",
       "       'trans, gay.wom', 'bla, trans, gay.man', 'asi.east, gay',\n",
       "       'trans, gay.wom, gay.man, bis', 'wom, asi.wom',\n",
       "       'mus, bla, jew, asi.chin', 'bla, jew, mixed.race',\n",
       "       'bla, asi.south, mixed.race, arab, asi.pak',\n",
       "       'pol, jew, gay.man, russian', 'wom, gay.wom', 'mus, jew, arab',\n",
       "       'dis, non.white, african', 'bla, wom, non.white', 'jew, gay.man',\n",
       "       'wom, jew', 'bla, wom, jew, mixed.race', 'wom, gay.wom, gay.man',\n",
       "       'bla, asi.south', 'bla, ethnic.minority', 'mus, bla, non.white',\n",
       "       'wom, mixed.race', 'dis, trans', 'dis, trans, gendermin',\n",
       "       'mus, ref', 'mus, jew, immig, arab',\n",
       "       'dis, bla, wom, jew, arab, non.white',\n",
       "       'wom, jew, mixed.race, non.white', 'jew, mixed.race',\n",
       "       'mus, african', 'asi.east, non.white',\n",
       "       'mus, arab, non.white, asi.pak', 'trans, jew',\n",
       "       'gendermin, gay.wom, bis', 'bla, jew, non.white',\n",
       "       'mus, bla, immig, non.white', 'jew, mixed.race, non.white',\n",
       "       'asi, non.white, african', 'bla, wom, gay', 'dis, gendermin',\n",
       "       'mus, bla, trans, jew, gay, hispanic', 'for, ref',\n",
       "       'bla, trans, gay', 'bla, jew, asi.south', 'non.white, bla.man',\n",
       "       'jew, gay, asi.chin', 'gay, ref',\n",
       "       'bla, bla.wom, mixed.race, non.white',\n",
       "       'bla, trans, jew, arab, gay.man, asi.chin',\n",
       "       'trans, wom, jew, gendermin', 'trans, wom, gendermin',\n",
       "       'other.glorification', 'bla, african', 'jew, ref', nan,\n",
       "       'bla, jew, african', 'asi.chin, african', 'mus, asi.south',\n",
       "       'dis, bla, ref', 'mus, gay', 'trans, bis', 'gay, bis',\n",
       "       'gendermin, bis', 'gay.wom, gay.man, bis', 'trans, gay, bis',\n",
       "       'gendermin, gay', 'lgbtq', 'gay.wom, gay.man, non.white',\n",
       "       'gay, arab, african', 'dis, mus, wom', 'mus, trans',\n",
       "       'mus, bla, gay', 'trans, gay, non.white', 'dis, indig', 'wom, wc',\n",
       "       'wc, eastern.europe', 'bla, wc', 'immig, eastern.europe',\n",
       "       'bla, gay, gay.wom', 'indig, mixed.race', 'bla, indig',\n",
       "       'jew, immig, non.white', 'asi.south, immig, asi.chin, non.white',\n",
       "       'asi, asi.man', 'asi, hispanic', 'asi.east, hispanic',\n",
       "       'bla, jew, indig', 'jew, mixed.race, asi.wom',\n",
       "       'non.white, asi.wom, asi.man', 'wom, asi.east',\n",
       "       'non.white, bla.man, asi.man', 'bla.man, asi.man',\n",
       "       'asi.south, asi.chin', 'dis, asi.south', 'asi.south, asi.pak',\n",
       "       'bla, wom, jew, asi', 'bla, asi.east', 'bla, jew, immig, hispanic',\n",
       "       'bla, asi.chin', 'asi, asi.chin', 'bla, asi.pak', 'immig, asi.wom',\n",
       "       'trav, bla, indig, arab, hispanic', 'mixed.race, asi, asi.wom',\n",
       "       'asi.south, asi.chin, asi.pak', 'immig, asi.pak',\n",
       "       'bla, mixed.race, non.white', 'asi.wom, bla.man',\n",
       "       'mus, bla, non.white, african', 'bla, mixed.race, gay',\n",
       "       'trans, gendermin, gay', 'bla, wom, immig', 'bla, asi, non.white',\n",
       "       'dis, bla, non.white', 'trav, bla, jew', 'trav, jew', 'trav, bla',\n",
       "       'bla, lgbtq', 'trav, jew, arab', 'trav, gendermin',\n",
       "       'trav, gendermin, immig', 'trav, eastern.europe',\n",
       "       'trav, asi.south', 'mus, mixed.race', 'bla, mixed.race, gendermin',\n",
       "       'wom, jew, mixed.race', 'bla, trans, mixed.race, gay.man',\n",
       "       'bla, wom, mixed.race', 'mus, bla, jew, mixed.race',\n",
       "       'wom, hispanic', 'wom, bla.man', 'wom, asi.chin',\n",
       "       'bla.wom, asi.south', 'for, hispanic', 'jew, for, hispanic',\n",
       "       'for, gay', 'dis, for, hispanic', 'bla, wom, hispanic, lgbtq',\n",
       "       'dis, for', 'asi, asi.chin, asi.wom', 'jew, mus.wom', 'wc, immig',\n",
       "       'gay, lgbtq', 'asi.chin, asi.pak', 'arab, asi.chin',\n",
       "       'bla, jew, asi.east', 'bla, gay, non.white', 'mus, arab, african',\n",
       "       'bla, arab', 'bla, asi.east, hispanic', 'bla, asi', 'jew, indig',\n",
       "       'trav, arab', 'arab, ref, african', 'jew, mixed.race, gay'],\n",
       "      dtype=object)"
      ]
     },
     "execution_count": 69,
     "metadata": {},
     "output_type": "execute_result"
    }
   ],
   "source": [
    "df['target'].unique()"
   ]
  },
  {
   "cell_type": "code",
   "execution_count": 37,
   "metadata": {},
   "outputs": [
    {
     "data": {
      "text/html": [
       "<div>\n",
       "<style scoped>\n",
       "    .dataframe tbody tr th:only-of-type {\n",
       "        vertical-align: middle;\n",
       "    }\n",
       "\n",
       "    .dataframe tbody tr th {\n",
       "        vertical-align: top;\n",
       "    }\n",
       "\n",
       "    .dataframe thead th {\n",
       "        text-align: right;\n",
       "    }\n",
       "</style>\n",
       "<table border=\"1\" class=\"dataframe\">\n",
       "  <thead>\n",
       "    <tr style=\"text-align: right;\">\n",
       "      <th></th>\n",
       "      <th>acl.id</th>\n",
       "      <th>TweetText</th>\n",
       "      <th>HateLabel</th>\n",
       "      <th>target</th>\n",
       "    </tr>\n",
       "  </thead>\n",
       "  <tbody>\n",
       "  </tbody>\n",
       "</table>\n",
       "</div>"
      ],
      "text/plain": [
       "Empty DataFrame\n",
       "Columns: [acl.id, TweetText, HateLabel, target]\n",
       "Index: []"
      ]
     },
     "execution_count": 37,
     "metadata": {},
     "output_type": "execute_result"
    }
   ],
   "source": [
    "df[df['HateLabel'] == 'wom']"
   ]
  },
  {
   "cell_type": "code",
   "execution_count": null,
   "metadata": {},
   "outputs": [],
   "source": []
  }
 ],
 "metadata": {
  "kernelspec": {
   "display_name": "lewagon",
   "language": "python",
   "name": "python3"
  },
  "language_info": {
   "codemirror_mode": {
    "name": "ipython",
    "version": 3
   },
   "file_extension": ".py",
   "mimetype": "text/x-python",
   "name": "python",
   "nbconvert_exporter": "python",
   "pygments_lexer": "ipython3",
   "version": "3.10.6"
  },
  "orig_nbformat": 4
 },
 "nbformat": 4,
 "nbformat_minor": 2
}
