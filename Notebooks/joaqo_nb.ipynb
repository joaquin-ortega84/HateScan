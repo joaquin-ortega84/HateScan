{
 "cells": [
  {
   "cell_type": "code",
   "execution_count": 11,
   "id": "e40d3084",
   "metadata": {},
   "outputs": [],
   "source": [
    "import pandas as pd\n",
    "import requests"
   ]
  },
  {
   "attachments": {},
   "cell_type": "markdown",
   "id": "2618e212",
   "metadata": {},
   "source": [
    "### 1. Data Exploration - dataset_v1 - More reliable version 80% annotation agreement (hate_speech_dataset.csv)"
   ]
  },
  {
   "attachments": {},
   "cell_type": "markdown",
   "id": "7597d15b",
   "metadata": {},
   "source": [
    " These domains are Religion, Gender, Race, Politics, Sports."
   ]
  },
  {
   "cell_type": "markdown",
   "id": "a4404be0",
   "metadata": {},
   "source": [
    "**HateLabel** \\\n",
    "0 Normal \\\n",
    "1 Offensive \\\n",
    "2 Hate"
   ]
  },
  {
   "cell_type": "code",
   "execution_count": 14,
   "id": "3de78e5a",
   "metadata": {},
   "outputs": [
    {
     "data": {
      "text/html": [
       "<div>\n",
       "<style scoped>\n",
       "    .dataframe tbody tr th:only-of-type {\n",
       "        vertical-align: middle;\n",
       "    }\n",
       "\n",
       "    .dataframe tbody tr th {\n",
       "        vertical-align: top;\n",
       "    }\n",
       "\n",
       "    .dataframe thead th {\n",
       "        text-align: right;\n",
       "    }\n",
       "</style>\n",
       "<table border=\"1\" class=\"dataframe\">\n",
       "  <thead>\n",
       "    <tr style=\"text-align: right;\">\n",
       "      <th></th>\n",
       "      <th>TweetID</th>\n",
       "      <th>LangID</th>\n",
       "      <th>TopicID</th>\n",
       "      <th>HateLabel</th>\n",
       "      <th>TweetText</th>\n",
       "    </tr>\n",
       "  </thead>\n",
       "  <tbody>\n",
       "    <tr>\n",
       "      <th>0</th>\n",
       "      <td>1344794359233998850</td>\n",
       "      <td>1</td>\n",
       "      <td>1</td>\n",
       "      <td>0</td>\n",
       "      <td>Na</td>\n",
       "    </tr>\n",
       "    <tr>\n",
       "      <th>1</th>\n",
       "      <td>1344794162625916935</td>\n",
       "      <td>1</td>\n",
       "      <td>1</td>\n",
       "      <td>0</td>\n",
       "      <td>Na</td>\n",
       "    </tr>\n",
       "    <tr>\n",
       "      <th>2</th>\n",
       "      <td>1344794094837637121</td>\n",
       "      <td>1</td>\n",
       "      <td>1</td>\n",
       "      <td>0</td>\n",
       "      <td>Na</td>\n",
       "    </tr>\n",
       "    <tr>\n",
       "      <th>3</th>\n",
       "      <td>1344790842117140483</td>\n",
       "      <td>1</td>\n",
       "      <td>1</td>\n",
       "      <td>0</td>\n",
       "      <td>Na</td>\n",
       "    </tr>\n",
       "    <tr>\n",
       "      <th>4</th>\n",
       "      <td>1344788907360190465</td>\n",
       "      <td>1</td>\n",
       "      <td>1</td>\n",
       "      <td>0</td>\n",
       "      <td>Na</td>\n",
       "    </tr>\n",
       "    <tr>\n",
       "      <th>...</th>\n",
       "      <td>...</td>\n",
       "      <td>...</td>\n",
       "      <td>...</td>\n",
       "      <td>...</td>\n",
       "      <td>...</td>\n",
       "    </tr>\n",
       "    <tr>\n",
       "      <th>68592</th>\n",
       "      <td>1277310569700196352</td>\n",
       "      <td>1</td>\n",
       "      <td>4</td>\n",
       "      <td>1</td>\n",
       "      <td>Na</td>\n",
       "    </tr>\n",
       "    <tr>\n",
       "      <th>68593</th>\n",
       "      <td>1277310293467713536</td>\n",
       "      <td>1</td>\n",
       "      <td>4</td>\n",
       "      <td>1</td>\n",
       "      <td>Na</td>\n",
       "    </tr>\n",
       "    <tr>\n",
       "      <th>68594</th>\n",
       "      <td>1277309147697106945</td>\n",
       "      <td>1</td>\n",
       "      <td>4</td>\n",
       "      <td>1</td>\n",
       "      <td>Na</td>\n",
       "    </tr>\n",
       "    <tr>\n",
       "      <th>68595</th>\n",
       "      <td>1277309020198633475</td>\n",
       "      <td>1</td>\n",
       "      <td>4</td>\n",
       "      <td>2</td>\n",
       "      <td>Na</td>\n",
       "    </tr>\n",
       "    <tr>\n",
       "      <th>68596</th>\n",
       "      <td>1277308852493524992</td>\n",
       "      <td>1</td>\n",
       "      <td>4</td>\n",
       "      <td>0</td>\n",
       "      <td>Na</td>\n",
       "    </tr>\n",
       "  </tbody>\n",
       "</table>\n",
       "<p>68597 rows × 5 columns</p>\n",
       "</div>"
      ],
      "text/plain": [
       "                   TweetID  LangID  TopicID  HateLabel TweetText\n",
       "0      1344794359233998850       1        1          0        Na\n",
       "1      1344794162625916935       1        1          0        Na\n",
       "2      1344794094837637121       1        1          0        Na\n",
       "3      1344790842117140483       1        1          0        Na\n",
       "4      1344788907360190465       1        1          0        Na\n",
       "...                    ...     ...      ...        ...       ...\n",
       "68592  1277310569700196352       1        4          1        Na\n",
       "68593  1277310293467713536       1        4          1        Na\n",
       "68594  1277309147697106945       1        4          1        Na\n",
       "68595  1277309020198633475       1        4          2        Na\n",
       "68596  1277308852493524992       1        4          0        Na\n",
       "\n",
       "[68597 rows x 5 columns]"
      ]
     },
     "execution_count": 14,
     "metadata": {},
     "output_type": "execute_result"
    }
   ],
   "source": [
    "df = pd.read_csv('../data/twitter_data.csv')"
   ]
  },
  {
   "cell_type": "code",
   "execution_count": 15,
   "id": "1ab9ef95",
   "metadata": {
    "scrolled": true
   },
   "outputs": [
    {
     "data": {
      "text/html": [
       "<div>\n",
       "<style scoped>\n",
       "    .dataframe tbody tr th:only-of-type {\n",
       "        vertical-align: middle;\n",
       "    }\n",
       "\n",
       "    .dataframe tbody tr th {\n",
       "        vertical-align: top;\n",
       "    }\n",
       "\n",
       "    .dataframe thead th {\n",
       "        text-align: right;\n",
       "    }\n",
       "</style>\n",
       "<table border=\"1\" class=\"dataframe\">\n",
       "  <thead>\n",
       "    <tr style=\"text-align: right;\">\n",
       "      <th></th>\n",
       "      <th>TweetID</th>\n",
       "      <th>LangID</th>\n",
       "      <th>TopicID</th>\n",
       "      <th>HateLabel</th>\n",
       "      <th>TweetText</th>\n",
       "    </tr>\n",
       "  </thead>\n",
       "  <tbody>\n",
       "    <tr>\n",
       "      <th>0</th>\n",
       "      <td>1344794359233998850</td>\n",
       "      <td>1</td>\n",
       "      <td>1</td>\n",
       "      <td>0</td>\n",
       "      <td>Na</td>\n",
       "    </tr>\n",
       "    <tr>\n",
       "      <th>1</th>\n",
       "      <td>1344794162625916935</td>\n",
       "      <td>1</td>\n",
       "      <td>1</td>\n",
       "      <td>0</td>\n",
       "      <td>Na</td>\n",
       "    </tr>\n",
       "    <tr>\n",
       "      <th>2</th>\n",
       "      <td>1344794094837637121</td>\n",
       "      <td>1</td>\n",
       "      <td>1</td>\n",
       "      <td>0</td>\n",
       "      <td>Na</td>\n",
       "    </tr>\n",
       "    <tr>\n",
       "      <th>3</th>\n",
       "      <td>1344790842117140483</td>\n",
       "      <td>1</td>\n",
       "      <td>1</td>\n",
       "      <td>0</td>\n",
       "      <td>Na</td>\n",
       "    </tr>\n",
       "    <tr>\n",
       "      <th>4</th>\n",
       "      <td>1344788907360190465</td>\n",
       "      <td>1</td>\n",
       "      <td>1</td>\n",
       "      <td>0</td>\n",
       "      <td>Na</td>\n",
       "    </tr>\n",
       "  </tbody>\n",
       "</table>\n",
       "</div>"
      ],
      "text/plain": [
       "               TweetID  LangID  TopicID  HateLabel TweetText\n",
       "0  1344794359233998850       1        1          0        Na\n",
       "1  1344794162625916935       1        1          0        Na\n",
       "2  1344794094837637121       1        1          0        Na\n",
       "3  1344790842117140483       1        1          0        Na\n",
       "4  1344788907360190465       1        1          0        Na"
      ]
     },
     "execution_count": 15,
     "metadata": {},
     "output_type": "execute_result"
    }
   ],
   "source": [
    "english_df = df[df['LangID'] == 1]\n",
    "english_df.head(5)"
   ]
  },
  {
   "cell_type": "markdown",
   "id": "790542ff",
   "metadata": {},
   "source": [
    "### Making the for loop to get Tweet_text by Tweet_ID from API"
   ]
  },
  {
   "cell_type": "code",
   "execution_count": 37,
   "id": "054b1571",
   "metadata": {},
   "outputs": [],
   "source": [
    "API_KEY='844e748a6bmsh73e9326b8789dadp1e1cb7jsn8af7cd97e316'\n",
    "url = \"https://twitter135.p.rapidapi.com/v2/TweetDetail/\"\n",
    "\n",
    "headers = {\n",
    "\t\"X-RapidAPI-Key\": API_KEY,\n",
    "\t\"X-RapidAPI-Host\": \"twitter135.p.rapidapi.com\"\n",
    "}"
   ]
  },
  {
   "cell_type": "code",
   "execution_count": 16,
   "id": "d3c8a9ec",
   "metadata": {},
   "outputs": [
    {
     "data": {
      "text/html": [
       "<div>\n",
       "<style scoped>\n",
       "    .dataframe tbody tr th:only-of-type {\n",
       "        vertical-align: middle;\n",
       "    }\n",
       "\n",
       "    .dataframe tbody tr th {\n",
       "        vertical-align: top;\n",
       "    }\n",
       "\n",
       "    .dataframe thead th {\n",
       "        text-align: right;\n",
       "    }\n",
       "</style>\n",
       "<table border=\"1\" class=\"dataframe\">\n",
       "  <thead>\n",
       "    <tr style=\"text-align: right;\">\n",
       "      <th></th>\n",
       "      <th>TweetID</th>\n",
       "      <th>LangID</th>\n",
       "      <th>TopicID</th>\n",
       "      <th>HateLabel</th>\n",
       "      <th>TweetText</th>\n",
       "    </tr>\n",
       "  </thead>\n",
       "  <tbody>\n",
       "    <tr>\n",
       "      <th>0</th>\n",
       "      <td>1344794359233998850</td>\n",
       "      <td>1</td>\n",
       "      <td>1</td>\n",
       "      <td>0</td>\n",
       "      <td></td>\n",
       "    </tr>\n",
       "    <tr>\n",
       "      <th>1</th>\n",
       "      <td>1344794162625916935</td>\n",
       "      <td>1</td>\n",
       "      <td>1</td>\n",
       "      <td>0</td>\n",
       "      <td></td>\n",
       "    </tr>\n",
       "    <tr>\n",
       "      <th>2</th>\n",
       "      <td>1344794094837637121</td>\n",
       "      <td>1</td>\n",
       "      <td>1</td>\n",
       "      <td>0</td>\n",
       "      <td></td>\n",
       "    </tr>\n",
       "    <tr>\n",
       "      <th>3</th>\n",
       "      <td>1344790842117140483</td>\n",
       "      <td>1</td>\n",
       "      <td>1</td>\n",
       "      <td>0</td>\n",
       "      <td></td>\n",
       "    </tr>\n",
       "    <tr>\n",
       "      <th>4</th>\n",
       "      <td>1344788907360190465</td>\n",
       "      <td>1</td>\n",
       "      <td>1</td>\n",
       "      <td>0</td>\n",
       "      <td></td>\n",
       "    </tr>\n",
       "    <tr>\n",
       "      <th>...</th>\n",
       "      <td>...</td>\n",
       "      <td>...</td>\n",
       "      <td>...</td>\n",
       "      <td>...</td>\n",
       "      <td>...</td>\n",
       "    </tr>\n",
       "    <tr>\n",
       "      <th>68592</th>\n",
       "      <td>1277310569700196352</td>\n",
       "      <td>1</td>\n",
       "      <td>4</td>\n",
       "      <td>1</td>\n",
       "      <td></td>\n",
       "    </tr>\n",
       "    <tr>\n",
       "      <th>68593</th>\n",
       "      <td>1277310293467713536</td>\n",
       "      <td>1</td>\n",
       "      <td>4</td>\n",
       "      <td>1</td>\n",
       "      <td></td>\n",
       "    </tr>\n",
       "    <tr>\n",
       "      <th>68594</th>\n",
       "      <td>1277309147697106945</td>\n",
       "      <td>1</td>\n",
       "      <td>4</td>\n",
       "      <td>1</td>\n",
       "      <td></td>\n",
       "    </tr>\n",
       "    <tr>\n",
       "      <th>68595</th>\n",
       "      <td>1277309020198633475</td>\n",
       "      <td>1</td>\n",
       "      <td>4</td>\n",
       "      <td>2</td>\n",
       "      <td></td>\n",
       "    </tr>\n",
       "    <tr>\n",
       "      <th>68596</th>\n",
       "      <td>1277308852493524992</td>\n",
       "      <td>1</td>\n",
       "      <td>4</td>\n",
       "      <td>0</td>\n",
       "      <td></td>\n",
       "    </tr>\n",
       "  </tbody>\n",
       "</table>\n",
       "<p>68597 rows × 5 columns</p>\n",
       "</div>"
      ],
      "text/plain": [
       "                   TweetID  LangID  TopicID  HateLabel TweetText\n",
       "0      1344794359233998850       1        1          0          \n",
       "1      1344794162625916935       1        1          0          \n",
       "2      1344794094837637121       1        1          0          \n",
       "3      1344790842117140483       1        1          0          \n",
       "4      1344788907360190465       1        1          0          \n",
       "...                    ...     ...      ...        ...       ...\n",
       "68592  1277310569700196352       1        4          1          \n",
       "68593  1277310293467713536       1        4          1          \n",
       "68594  1277309147697106945       1        4          1          \n",
       "68595  1277309020198633475       1        4          2          \n",
       "68596  1277308852493524992       1        4          0          \n",
       "\n",
       "[68597 rows x 5 columns]"
      ]
     },
     "execution_count": 16,
     "metadata": {},
     "output_type": "execute_result"
    }
   ],
   "source": [
    "english_df['TweetText'] = ''\n",
    "english_df"
   ]
  },
  {
   "cell_type": "code",
   "execution_count": 67,
   "id": "8cc7e292",
   "metadata": {},
   "outputs": [],
   "source": [
    "import requests\n",
    "\n",
    "def get_text(id_number):\n",
    "\n",
    "    url = \"https://twitter135.p.rapidapi.com/v2/TweetDetail/\"\n",
    "\n",
    "    querystring = {\"id\":id_number}\n",
    "\n",
    "    headers = {\n",
    "    \"X-RapidAPI-Key\": \"844e748a6bmsh73e9326b8789dadp1e1cb7jsn8af7cd97e316\",\n",
    "    \"X-RapidAPI-Host\": \"twitter135.p.rapidapi.com\"\n",
    "    }\n",
    "\n",
    "    response = requests.get(url, headers=headers, params=querystring)\n",
    "\n",
    "    return response.json()['data']['threaded_conversation_with_injections_v2']['instructions'][0]['entries'][0]['content']['itemContent']['tweet_results']['result']['legacy']['full_text']\n"
   ]
  },
  {
   "cell_type": "code",
   "execution_count": 9,
   "id": "f2da7ce7",
   "metadata": {},
   "outputs": [
    {
     "ename": "NameError",
     "evalue": "name 'english_df' is not defined",
     "output_type": "error",
     "traceback": [
      "\u001b[0;31m---------------------------------------------------------------------------\u001b[0m",
      "\u001b[0;31mNameError\u001b[0m                                 Traceback (most recent call last)",
      "Cell \u001b[0;32mIn[9], line 1\u001b[0m\n\u001b[0;32m----> 1\u001b[0m df_ten_rows \u001b[39m=\u001b[39m pd\u001b[39m.\u001b[39mDataFrame(english_df\u001b[39m.\u001b[39msample(\u001b[39m25\u001b[39m))\n",
      "\u001b[0;31mNameError\u001b[0m: name 'english_df' is not defined"
     ]
    }
   ],
   "source": [
    "df_ten_rows = pd.DataFrame(english_df.sample(25))"
   ]
  },
  {
   "cell_type": "code",
   "execution_count": 97,
   "id": "6b06f4a4",
   "metadata": {},
   "outputs": [],
   "source": [
    "error_list = []\n",
    "\n",
    "for index, tweet_id in df_ten_rows.TweetID.items():\n",
    "    time.sleep(0.3)\n",
    "    try:\n",
    "        text = get_text(tweet_id)\n",
    "        df_ten_rows.loc[index, 'TweetText'] = text\n",
    "    except:\n",
    "        error_list.append(tweet_id)"
   ]
  },
  {
   "cell_type": "code",
   "execution_count": 8,
   "id": "5526cf68",
   "metadata": {},
   "outputs": [
    {
     "ename": "NameError",
     "evalue": "name 'df_ten_rows' is not defined",
     "output_type": "error",
     "traceback": [
      "\u001b[0;31m---------------------------------------------------------------------------\u001b[0m",
      "\u001b[0;31mNameError\u001b[0m                                 Traceback (most recent call last)",
      "Cell \u001b[0;32mIn[8], line 1\u001b[0m\n\u001b[0;32m----> 1\u001b[0m df_sample25 \u001b[39m=\u001b[39m df_ten_rows\n\u001b[1;32m      2\u001b[0m df_sample25\n",
      "\u001b[0;31mNameError\u001b[0m: name 'df_ten_rows' is not defined"
     ]
    }
   ],
   "source": [
    "df_sample25 = df_ten_rows\n",
    "df_sample25"
   ]
  },
  {
   "cell_type": "code",
   "execution_count": 104,
   "id": "389723f2",
   "metadata": {},
   "outputs": [],
   "source": [
    "df_sample25.to_csv('df_sample25.csv', index=False)"
   ]
  },
  {
   "attachments": {},
   "cell_type": "markdown",
   "id": "162fccdd",
   "metadata": {},
   "source": [
    "### 2. Data Modelling (RNN)"
   ]
  },
  {
   "attachments": {},
   "cell_type": "markdown",
   "id": "c83feb13",
   "metadata": {},
   "source": [
    "model = tf.keras.Sequential([\n",
    "    encoder,\n",
    "    tf.keras.layers.Embedding(\n",
    "        input_dim=len(encoder.get_vocabulary()),\n",
    "        output_dim=64,\n",
    "        # Use masking to handle the variable sequence lengths\n",
    "        mask_zero=True),\n",
    "    tf.keras.layers.Bidirectional(tf.keras.layers.LSTM(64)),\n",
    "    tf.keras.layers.Dense(64, activation='relu'),\n",
    "    tf.keras.layers.Dense(1)\n",
    "])"
   ]
  },
  {
   "cell_type": "code",
   "execution_count": null,
   "id": "9c816b4c",
   "metadata": {},
   "outputs": [],
   "source": [
    "model.compile(loss=tf.keras.losses.BinaryCrossentropy(from_logits=True),\n",
    "              optimizer=tf.keras.optimizers.Adam(1e-4),\n",
    "              metrics=['accuracy'])"
   ]
  },
  {
   "cell_type": "code",
   "execution_count": null,
   "id": "c6a99007",
   "metadata": {},
   "outputs": [],
   "source": [
    "history = model.fit(train_dataset, epochs=10,\n",
    "                    validation_data=test_dataset,\n",
    "                    validation_steps=30)"
   ]
  },
  {
   "cell_type": "code",
   "execution_count": null,
   "id": "7139f54d",
   "metadata": {},
   "outputs": [],
   "source": [
    "test_loss, test_acc = model.evaluate(test_dataset)\n"
   ]
  }
 ],
 "metadata": {
  "kernelspec": {
   "display_name": "Python 3 (ipykernel)",
   "language": "python",
   "name": "python3"
  },
  "language_info": {
   "codemirror_mode": {
    "name": "ipython",
    "version": 3
   },
   "file_extension": ".py",
   "mimetype": "text/x-python",
   "name": "python",
   "nbconvert_exporter": "python",
   "pygments_lexer": "ipython3",
   "version": "3.10.6"
  },
  "toc": {
   "base_numbering": 1,
   "nav_menu": {},
   "number_sections": true,
   "sideBar": true,
   "skip_h1_title": false,
   "title_cell": "Table of Contents",
   "title_sidebar": "Contents",
   "toc_cell": false,
   "toc_position": {},
   "toc_section_display": true,
   "toc_window_display": false
  }
 },
 "nbformat": 4,
 "nbformat_minor": 5
}
