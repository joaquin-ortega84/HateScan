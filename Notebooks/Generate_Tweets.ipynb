{
 "cells": [
  {
   "cell_type": "code",
   "execution_count": 5,
   "id": "7f83cc4a",
   "metadata": {},
   "outputs": [],
   "source": [
    "import pandas as pd"
   ]
  },
  {
   "cell_type": "code",
   "execution_count": 18,
   "id": "7e733b53",
   "metadata": {},
   "outputs": [
    {
     "data": {
      "text/html": [
       "<div>\n",
       "<style scoped>\n",
       "    .dataframe tbody tr th:only-of-type {\n",
       "        vertical-align: middle;\n",
       "    }\n",
       "\n",
       "    .dataframe tbody tr th {\n",
       "        vertical-align: top;\n",
       "    }\n",
       "\n",
       "    .dataframe thead th {\n",
       "        text-align: right;\n",
       "    }\n",
       "</style>\n",
       "<table border=\"1\" class=\"dataframe\">\n",
       "  <thead>\n",
       "    <tr style=\"text-align: right;\">\n",
       "      <th></th>\n",
       "      <th>Unnamed: 0</th>\n",
       "      <th>LangID</th>\n",
       "      <th>TopicID</th>\n",
       "      <th>HateLabel</th>\n",
       "      <th>TweetText</th>\n",
       "    </tr>\n",
       "  </thead>\n",
       "  <tbody>\n",
       "    <tr>\n",
       "      <th>10918</th>\n",
       "      <td>10918</td>\n",
       "      <td>1.0</td>\n",
       "      <td>3.0</td>\n",
       "      <td>0.0</td>\n",
       "      <td>RICH NOYES Rewind: The last four years showed ...</td>\n",
       "    </tr>\n",
       "    <tr>\n",
       "      <th>26445</th>\n",
       "      <td>26445</td>\n",
       "      <td>1.0</td>\n",
       "      <td>2.0</td>\n",
       "      <td>2.0</td>\n",
       "      <td>The assassination of Iranian General, Qassim S...</td>\n",
       "    </tr>\n",
       "    <tr>\n",
       "      <th>19764</th>\n",
       "      <td>19764</td>\n",
       "      <td>1.0</td>\n",
       "      <td>3.0</td>\n",
       "      <td>0.0</td>\n",
       "      <td>Mississippi no longer has a state flag until v...</td>\n",
       "    </tr>\n",
       "    <tr>\n",
       "      <th>9320</th>\n",
       "      <td>9320</td>\n",
       "      <td>1.0</td>\n",
       "      <td>1.0</td>\n",
       "      <td>0.0</td>\n",
       "      <td>Thankfully now I live in Country that hate spe...</td>\n",
       "    </tr>\n",
       "    <tr>\n",
       "      <th>17409</th>\n",
       "      <td>17409</td>\n",
       "      <td>1.0</td>\n",
       "      <td>3.0</td>\n",
       "      <td>0.0</td>\n",
       "      <td>Warren Accuses Trump of ‘Bungling Every Aspect...</td>\n",
       "    </tr>\n",
       "  </tbody>\n",
       "</table>\n",
       "</div>"
      ],
      "text/plain": [
       "      Unnamed: 0  LangID  TopicID  HateLabel  \\\n",
       "10918      10918     1.0      3.0        0.0   \n",
       "26445      26445     1.0      2.0        2.0   \n",
       "19764      19764     1.0      3.0        0.0   \n",
       "9320        9320     1.0      1.0        0.0   \n",
       "17409      17409     1.0      3.0        0.0   \n",
       "\n",
       "                                               TweetText  \n",
       "10918  RICH NOYES Rewind: The last four years showed ...  \n",
       "26445  The assassination of Iranian General, Qassim S...  \n",
       "19764  Mississippi no longer has a state flag until v...  \n",
       "9320   Thankfully now I live in Country that hate spe...  \n",
       "17409  Warren Accuses Trump of ‘Bungling Every Aspect...  "
      ]
     },
     "execution_count": 18,
     "metadata": {},
     "output_type": "execute_result"
    }
   ],
   "source": [
    "data = pd.read_csv('../data/twitter_davinci_ds.csv', error_bad_lines=False, lineterminator='\\n')\n",
    "data.sample(5)"
   ]
  },
  {
   "attachments": {},
   "cell_type": "markdown",
   "id": "69daa77a",
   "metadata": {},
   "source": [
    "### Code to Generate More Tweets"
   ]
  },
  {
   "cell_type": "code",
   "execution_count": 3,
   "id": "7202f689",
   "metadata": {},
   "outputs": [],
   "source": [
    "import os\n",
    "import openai"
   ]
  },
  {
   "cell_type": "code",
   "execution_count": null,
   "id": "a436bd7e",
   "metadata": {},
   "outputs": [],
   "source": [
    "openai.api_key = 'insert API key'\n",
    "def get_hate(text):\n",
    "\n",
    "    response = openai.Completion.create(\n",
    "    model=\"text-davinci-002\",\n",
    "    prompt=f\"{text}\",\n",
    "    )\n",
    "\n",
    "    return response['choices'][0]['text']  "
   ]
  },
  {
   "cell_type": "code",
   "execution_count": 1,
   "id": "ab4ab9c8",
   "metadata": {},
   "outputs": [],
   "source": [
    "from multiprocessing import Pool, cpu_count"
   ]
  },
  {
   "cell_type": "code",
   "execution_count": null,
   "id": "e24dd7a4",
   "metadata": {},
   "outputs": [],
   "source": [
    "offensive_tweets = df.loc[df.HateLabel == 1].iloc[:100]\n",
    "\n",
    "def process_row(row):\n",
    "    old_hate = row['TweetText']\n",
    "    new_hate = get_hate(f'Give me similar texts to this one but use other hate words: \"{old_hate}\"')\n",
    "\n",
    "    # Create new row\n",
    "    new_row = {'TweetID': 'DAV_2_TweetID',  # Add appropriate TweetID\n",
    "               'LangID': row['LangID'],\n",
    "               'TopicID': row['TopicID'],\n",
    "               'HateLabel': row['HateLabel'],\n",
    "               'TweetText': new_hate} \n",
    "\n",
    "    return new_row\n",
    "\n",
    "offensive_tweets = df.loc[df.HateLabel == 1]\n",
    "\n",
    "\n",
    "with Pool(cpu_count()) as p:\n",
    "    new_rows = p.map(process_row, offensive_tweets.to_dict('records'))\n",
    "\n",
    "new_df = pd.DataFrame(new_rows)\n",
    "\n",
    "offensive_tweets = pd.concat([offensive_tweets, new_df], ignore_index=True)\n",
    "offensive_tweets.to_csv('gen_off_texts.csv')\n",
    "    "
   ]
  }
 ],
 "metadata": {
  "kernelspec": {
   "display_name": "Python 3 (ipykernel)",
   "language": "python",
   "name": "python3"
  },
  "language_info": {
   "codemirror_mode": {
    "name": "ipython",
    "version": 3
   },
   "file_extension": ".py",
   "mimetype": "text/x-python",
   "name": "python",
   "nbconvert_exporter": "python",
   "pygments_lexer": "ipython3",
   "version": "3.10.6"
  },
  "toc": {
   "base_numbering": 1,
   "nav_menu": {},
   "number_sections": true,
   "sideBar": true,
   "skip_h1_title": false,
   "title_cell": "Table of Contents",
   "title_sidebar": "Contents",
   "toc_cell": false,
   "toc_position": {},
   "toc_section_display": true,
   "toc_window_display": false
  }
 },
 "nbformat": 4,
 "nbformat_minor": 5
}
