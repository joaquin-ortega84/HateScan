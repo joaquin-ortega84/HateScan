{
 "cells": [
  {
   "cell_type": "code",
   "execution_count": 2,
   "metadata": {},
   "outputs": [],
   "source": [
    "import pandas as pd"
   ]
  },
  {
   "cell_type": "code",
   "execution_count": 4,
   "metadata": {},
   "outputs": [],
   "source": [
    "# 1- Load, 2- Remove duplicates & drop NAs\n",
    "# 0 - hate speech 1 - offensive language 2 - neither\n",
    "df = pd.read_csv('../data/as download/HS_OL.csv').dropna().drop_duplicates()\n",
    "\n",
    "# Rename columns\n",
    "df = df.rename(columns={'class': 'HateLabel', 'tweet': 'TweetText'}).drop(columns=['count','hate_speech','offensive_language','neither','Unnamed: 0'])\n",
    "relabel = {0:2,1:1,2:0}\n",
    "\n",
    "df.replace({'HateLabel': relabel}, inplace=True)\n",
    "df.sample(10)\n",
    "df = df.sort_values('HateLabel')\n",
    "# df.to_csv('additional_dataset.csv')"
   ]
  },
  {
   "cell_type": "code",
   "execution_count": 6,
   "metadata": {},
   "outputs": [
    {
     "data": {
      "text/html": [
       "<div>\n",
       "<style scoped>\n",
       "    .dataframe tbody tr th:only-of-type {\n",
       "        vertical-align: middle;\n",
       "    }\n",
       "\n",
       "    .dataframe tbody tr th {\n",
       "        vertical-align: top;\n",
       "    }\n",
       "\n",
       "    .dataframe thead th {\n",
       "        text-align: right;\n",
       "    }\n",
       "</style>\n",
       "<table border=\"1\" class=\"dataframe\">\n",
       "  <thead>\n",
       "    <tr style=\"text-align: right;\">\n",
       "      <th></th>\n",
       "      <th>HateLabel</th>\n",
       "      <th>TweetText</th>\n",
       "    </tr>\n",
       "  </thead>\n",
       "  <tbody>\n",
       "    <tr>\n",
       "      <th>0</th>\n",
       "      <td>0</td>\n",
       "      <td>!!! RT @mayasolovely: As a woman you shouldn't...</td>\n",
       "    </tr>\n",
       "    <tr>\n",
       "      <th>10416</th>\n",
       "      <td>0</td>\n",
       "      <td>I had froyo with brownies for dinner tonight. ...</td>\n",
       "    </tr>\n",
       "    <tr>\n",
       "      <th>10402</th>\n",
       "      <td>0</td>\n",
       "      <td>I grew to hate blonde and primary colored weav...</td>\n",
       "    </tr>\n",
       "    <tr>\n",
       "      <th>10391</th>\n",
       "      <td>0</td>\n",
       "      <td>I got to get the trash out and make breakfast ...</td>\n",
       "    </tr>\n",
       "    <tr>\n",
       "      <th>10372</th>\n",
       "      <td>0</td>\n",
       "      <td>I got my eyes on this red bone</td>\n",
       "    </tr>\n",
       "    <tr>\n",
       "      <th>10360</th>\n",
       "      <td>0</td>\n",
       "      <td>I got dirty birds hey shoot like Larry bird hey</td>\n",
       "    </tr>\n",
       "    <tr>\n",
       "      <th>10353</th>\n",
       "      <td>0</td>\n",
       "      <td>I got a uncle through marriage dude got hips l...</td>\n",
       "    </tr>\n",
       "    <tr>\n",
       "      <th>10325</th>\n",
       "      <td>0</td>\n",
       "      <td>I get a 50 pound bag of dawg for the mutts</td>\n",
       "    </tr>\n",
       "    <tr>\n",
       "      <th>10310</th>\n",
       "      <td>0</td>\n",
       "      <td>I from the planet of apes king Kong clips</td>\n",
       "    </tr>\n",
       "    <tr>\n",
       "      <th>10309</th>\n",
       "      <td>0</td>\n",
       "      <td>I found your arm in that trash receptacle and ...</td>\n",
       "    </tr>\n",
       "    <tr>\n",
       "      <th>10302</th>\n",
       "      <td>0</td>\n",
       "      <td>I find it amusing that Senator @tedcruz is an ...</td>\n",
       "    </tr>\n",
       "    <tr>\n",
       "      <th>10296</th>\n",
       "      <td>0</td>\n",
       "      <td>I feel utterly retarded. Thanks big brother&amp;#1...</td>\n",
       "    </tr>\n",
       "    <tr>\n",
       "      <th>10424</th>\n",
       "      <td>0</td>\n",
       "      <td>I hate \"chunky\" pasta sauce. KEEP PESKY VEGETA...</td>\n",
       "    </tr>\n",
       "    <tr>\n",
       "      <th>10270</th>\n",
       "      <td>0</td>\n",
       "      <td>I dont understand rich people who dress like t...</td>\n",
       "    </tr>\n",
       "    <tr>\n",
       "      <th>10251</th>\n",
       "      <td>0</td>\n",
       "      <td>I don't want to deal with yesterday's trash! T...</td>\n",
       "    </tr>\n",
       "    <tr>\n",
       "      <th>10235</th>\n",
       "      <td>0</td>\n",
       "      <td>I don't own any #Onslaught on #Vinyl I may hav...</td>\n",
       "    </tr>\n",
       "    <tr>\n",
       "      <th>10222</th>\n",
       "      <td>0</td>\n",
       "      <td>I don't know what's more stressful, midterms o...</td>\n",
       "    </tr>\n",
       "    <tr>\n",
       "      <th>10221</th>\n",
       "      <td>0</td>\n",
       "      <td>I don't know what you been told but I love the...</td>\n",
       "    </tr>\n",
       "    <tr>\n",
       "      <th>10190</th>\n",
       "      <td>0</td>\n",
       "      <td>I don't blame Crash for not sharing with you @...</td>\n",
       "    </tr>\n",
       "    <tr>\n",
       "      <th>10186</th>\n",
       "      <td>0</td>\n",
       "      <td>I don&amp;#8217;t talk trash regarding sports.</td>\n",
       "    </tr>\n",
       "  </tbody>\n",
       "</table>\n",
       "</div>"
      ],
      "text/plain": [
       "       HateLabel                                          TweetText\n",
       "0              0  !!! RT @mayasolovely: As a woman you shouldn't...\n",
       "10416          0  I had froyo with brownies for dinner tonight. ...\n",
       "10402          0  I grew to hate blonde and primary colored weav...\n",
       "10391          0  I got to get the trash out and make breakfast ...\n",
       "10372          0                     I got my eyes on this red bone\n",
       "10360          0    I got dirty birds hey shoot like Larry bird hey\n",
       "10353          0  I got a uncle through marriage dude got hips l...\n",
       "10325          0         I get a 50 pound bag of dawg for the mutts\n",
       "10310          0          I from the planet of apes king Kong clips\n",
       "10309          0  I found your arm in that trash receptacle and ...\n",
       "10302          0  I find it amusing that Senator @tedcruz is an ...\n",
       "10296          0  I feel utterly retarded. Thanks big brother&#1...\n",
       "10424          0  I hate \"chunky\" pasta sauce. KEEP PESKY VEGETA...\n",
       "10270          0  I dont understand rich people who dress like t...\n",
       "10251          0  I don't want to deal with yesterday's trash! T...\n",
       "10235          0  I don't own any #Onslaught on #Vinyl I may hav...\n",
       "10222          0  I don't know what's more stressful, midterms o...\n",
       "10221          0  I don't know what you been told but I love the...\n",
       "10190          0  I don't blame Crash for not sharing with you @...\n",
       "10186          0         I don&#8217;t talk trash regarding sports."
      ]
     },
     "execution_count": 6,
     "metadata": {},
     "output_type": "execute_result"
    }
   ],
   "source": [
    "df.head(20)"
   ]
  },
  {
   "cell_type": "code",
   "execution_count": 110,
   "metadata": {},
   "outputs": [
    {
     "data": {
      "text/html": [
       "<div>\n",
       "<style scoped>\n",
       "    .dataframe tbody tr th:only-of-type {\n",
       "        vertical-align: middle;\n",
       "    }\n",
       "\n",
       "    .dataframe tbody tr th {\n",
       "        vertical-align: top;\n",
       "    }\n",
       "\n",
       "    .dataframe thead th {\n",
       "        text-align: right;\n",
       "    }\n",
       "</style>\n",
       "<table border=\"1\" class=\"dataframe\">\n",
       "  <thead>\n",
       "    <tr style=\"text-align: right;\">\n",
       "      <th></th>\n",
       "      <th>TopicID</th>\n",
       "      <th>HateLabel</th>\n",
       "      <th>TweetText</th>\n",
       "    </tr>\n",
       "  </thead>\n",
       "  <tbody>\n",
       "    <tr>\n",
       "      <th>42729</th>\n",
       "      <td>0.0</td>\n",
       "      <td>0.0</td>\n",
       "      <td>If your church is hosting a Trump rally, you d...</td>\n",
       "    </tr>\n",
       "  </tbody>\n",
       "</table>\n",
       "</div>"
      ],
      "text/plain": [
       "       TopicID  HateLabel                                          TweetText\n",
       "42729      0.0        0.0  If your church is hosting a Trump rally, you d..."
      ]
     },
     "execution_count": 110,
     "metadata": {},
     "output_type": "execute_result"
    }
   ],
   "source": [
    "first_ds = pd.read_csv('../data/twitter_davinci_ds.csv').drop(columns=['LangID','Unnamed: 0'])\n",
    "first_ds.sample()"
   ]
  },
  {
   "cell_type": "code",
   "execution_count": 111,
   "metadata": {},
   "outputs": [
    {
     "data": {
      "text/plain": [
       "1.0    14667\n",
       "3.0    13636\n",
       "4.0    12295\n",
       "2.0    12171\n",
       "0.0    11080\n",
       "Name: TopicID, dtype: int64"
      ]
     },
     "execution_count": 111,
     "metadata": {},
     "output_type": "execute_result"
    }
   ],
   "source": [
    "first_ds['TopicID'].value_counts()"
   ]
  },
  {
   "attachments": {},
   "cell_type": "markdown",
   "metadata": {},
   "source": []
  },
  {
   "cell_type": "code",
   "execution_count": 98,
   "metadata": {},
   "outputs": [],
   "source": [
    "concat_df = pd.concat([first_ds,df],axis=0)\n",
    "concat_df.sample(5)\n",
    "concat_df.to_csv('../data/concat_df.csv')"
   ]
  },
  {
   "cell_type": "code",
   "execution_count": 1,
   "metadata": {},
   "outputs": [
    {
     "ename": "NameError",
     "evalue": "name 'first_ds' is not defined",
     "output_type": "error",
     "traceback": [
      "\u001b[0;31m---------------------------------------------------------------------------\u001b[0m",
      "\u001b[0;31mNameError\u001b[0m                                 Traceback (most recent call last)",
      "Cell \u001b[0;32mIn[1], line 1\u001b[0m\n\u001b[0;32m----> 1\u001b[0m first_ds\n",
      "\u001b[0;31mNameError\u001b[0m: name 'first_ds' is not defined"
     ]
    }
   ],
   "source": [
    "first_ds"
   ]
  },
  {
   "cell_type": "code",
   "execution_count": null,
   "metadata": {},
   "outputs": [],
   "source": []
  }
 ],
 "metadata": {
  "kernelspec": {
   "display_name": "lewagon",
   "language": "python",
   "name": "python3"
  },
  "language_info": {
   "codemirror_mode": {
    "name": "ipython",
    "version": 3
   },
   "file_extension": ".py",
   "mimetype": "text/x-python",
   "name": "python",
   "nbconvert_exporter": "python",
   "pygments_lexer": "ipython3",
   "version": "3.10.6"
  },
  "orig_nbformat": 4
 },
 "nbformat": 4,
 "nbformat_minor": 2
}
