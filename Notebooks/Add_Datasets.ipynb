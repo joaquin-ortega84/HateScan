{
 "cells": [
  {
   "cell_type": "code",
   "execution_count": 1,
   "metadata": {},
   "outputs": [],
   "source": [
    "import pandas as pd"
   ]
  },
  {
   "cell_type": "code",
   "execution_count": 112,
   "metadata": {},
   "outputs": [],
   "source": [
    "# 1- Load, 2- Remove duplicates & drop NAs\n",
    "# 0 - hate speech 1 - offensive language 2 - neither\n",
    "df = pd.read_csv('../data/HS_OL.csv').dropna().drop_duplicates()\n",
    "\n",
    "# Rename columns\n",
    "df = df.rename(columns={'class': 'HateLabel', 'tweet': 'TweetText'}).drop(columns=['count','hate_speech','offensive_language','neither','Unnamed: 0'])\n",
    "relabel = {0:2,1:1,2:0}\n",
    "\n",
    "df.replace({'HateLabel': relabel}, inplace=True)\n",
    "df.sample(10)\n",
    "df = df.sort_values('HateLabel')\n",
    "# df.to_csv('additional_dataset.csv')"
   ]
  },
  {
   "cell_type": "code",
   "execution_count": 116,
   "metadata": {},
   "outputs": [
    {
     "data": {
      "text/html": [
       "<div>\n",
       "<style scoped>\n",
       "    .dataframe tbody tr th:only-of-type {\n",
       "        vertical-align: middle;\n",
       "    }\n",
       "\n",
       "    .dataframe tbody tr th {\n",
       "        vertical-align: top;\n",
       "    }\n",
       "\n",
       "    .dataframe thead th {\n",
       "        text-align: right;\n",
       "    }\n",
       "</style>\n",
       "<table border=\"1\" class=\"dataframe\">\n",
       "  <thead>\n",
       "    <tr style=\"text-align: right;\">\n",
       "      <th></th>\n",
       "      <th>HateLabel</th>\n",
       "      <th>TweetText</th>\n",
       "    </tr>\n",
       "  </thead>\n",
       "  <tbody>\n",
       "    <tr>\n",
       "      <th>20545</th>\n",
       "      <td>2</td>\n",
       "      <td>Roses be red\\nOrchids be bigger \\nDonts tell y...</td>\n",
       "    </tr>\n",
       "    <tr>\n",
       "      <th>20518</th>\n",
       "      <td>1</td>\n",
       "      <td>Reminiscin on my swinger days, when I drove a ...</td>\n",
       "    </tr>\n",
       "    <tr>\n",
       "      <th>22040</th>\n",
       "      <td>0</td>\n",
       "      <td>This fuzzy wuzzy kitten wants to know how a ra...</td>\n",
       "    </tr>\n",
       "    <tr>\n",
       "      <th>16618</th>\n",
       "      <td>2</td>\n",
       "      <td>RT @Nekkohbk: I stopped caring about mcm when ...</td>\n",
       "    </tr>\n",
       "  </tbody>\n",
       "</table>\n",
       "</div>"
      ],
      "text/plain": [
       "       HateLabel                                          TweetText\n",
       "20545          2  Roses be red\\nOrchids be bigger \\nDonts tell y...\n",
       "20518          1  Reminiscin on my swinger days, when I drove a ...\n",
       "22040          0  This fuzzy wuzzy kitten wants to know how a ra...\n",
       "16618          2  RT @Nekkohbk: I stopped caring about mcm when ..."
      ]
     },
     "execution_count": 116,
     "metadata": {},
     "output_type": "execute_result"
    }
   ],
   "source": [
    "df.sample(4)"
   ]
  },
  {
   "cell_type": "code",
   "execution_count": 110,
   "metadata": {},
   "outputs": [
    {
     "data": {
      "text/html": [
       "<div>\n",
       "<style scoped>\n",
       "    .dataframe tbody tr th:only-of-type {\n",
       "        vertical-align: middle;\n",
       "    }\n",
       "\n",
       "    .dataframe tbody tr th {\n",
       "        vertical-align: top;\n",
       "    }\n",
       "\n",
       "    .dataframe thead th {\n",
       "        text-align: right;\n",
       "    }\n",
       "</style>\n",
       "<table border=\"1\" class=\"dataframe\">\n",
       "  <thead>\n",
       "    <tr style=\"text-align: right;\">\n",
       "      <th></th>\n",
       "      <th>TopicID</th>\n",
       "      <th>HateLabel</th>\n",
       "      <th>TweetText</th>\n",
       "    </tr>\n",
       "  </thead>\n",
       "  <tbody>\n",
       "    <tr>\n",
       "      <th>42729</th>\n",
       "      <td>0.0</td>\n",
       "      <td>0.0</td>\n",
       "      <td>If your church is hosting a Trump rally, you d...</td>\n",
       "    </tr>\n",
       "  </tbody>\n",
       "</table>\n",
       "</div>"
      ],
      "text/plain": [
       "       TopicID  HateLabel                                          TweetText\n",
       "42729      0.0        0.0  If your church is hosting a Trump rally, you d..."
      ]
     },
     "execution_count": 110,
     "metadata": {},
     "output_type": "execute_result"
    }
   ],
   "source": [
    "first_ds = pd.read_csv('../data/twitter_davinci_ds.csv').drop(columns=['LangID','Unnamed: 0'])\n",
    "first_ds.sample()"
   ]
  },
  {
   "cell_type": "code",
   "execution_count": 111,
   "metadata": {},
   "outputs": [
    {
     "data": {
      "text/plain": [
       "1.0    14667\n",
       "3.0    13636\n",
       "4.0    12295\n",
       "2.0    12171\n",
       "0.0    11080\n",
       "Name: TopicID, dtype: int64"
      ]
     },
     "execution_count": 111,
     "metadata": {},
     "output_type": "execute_result"
    }
   ],
   "source": [
    "first_ds['TopicID'].value_counts()"
   ]
  },
  {
   "cell_type": "code",
   "execution_count": 98,
   "metadata": {},
   "outputs": [],
   "source": [
    "concat_df = pd.concat([first_ds,df],axis=0)\n",
    "concat_df.sample(5)\n",
    "concat_df.to_csv('../data/concat_df.csv')"
   ]
  }
 ],
 "metadata": {
  "kernelspec": {
   "display_name": "lewagon",
   "language": "python",
   "name": "python3"
  },
  "language_info": {
   "codemirror_mode": {
    "name": "ipython",
    "version": 3
   },
   "file_extension": ".py",
   "mimetype": "text/x-python",
   "name": "python",
   "nbconvert_exporter": "python",
   "pygments_lexer": "ipython3",
   "version": "3.10.6"
  },
  "orig_nbformat": 4
 },
 "nbformat": 4,
 "nbformat_minor": 2
}
