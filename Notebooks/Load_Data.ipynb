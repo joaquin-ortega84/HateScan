{
 "cells": [
  {
   "attachments": {},
   "cell_type": "markdown",
   "id": "790542ff",
   "metadata": {},
   "source": [
    "### Making the for loop to get Tweet_text by Tweet_ID from API"
   ]
  },
  {
   "attachments": {},
   "cell_type": "markdown",
   "id": "87a1eb37",
   "metadata": {},
   "source": [
    "### Downloading data from API"
   ]
  },
  {
   "cell_type": "code",
   "execution_count": 2,
   "id": "beda916f",
   "metadata": {},
   "outputs": [],
   "source": [
    "import pandas as pd"
   ]
  },
  {
   "cell_type": "code",
   "execution_count": 3,
   "id": "8cc7e292",
   "metadata": {},
   "outputs": [],
   "source": [
    "import requests\n",
    "\n",
    "def get_text(id_number):\n",
    "\n",
    "    url = \"https://twitter135.p.rapidapi.com/v2/TweetDetail/\"\n",
    "\n",
    "    querystring = {\"id\":id_number}\n",
    "\n",
    "    headers = {\n",
    "    \"X-RapidAPI-Key\": \"17f84b3e3dmsh705aa22617dea22p11e224jsn75fcf7665909\",\n",
    "    \"X-RapidAPI-Host\": \"twitter135.p.rapidapi.com\"\n",
    "    }\n",
    "\n",
    "    response = requests.get(url, headers=headers, params=querystring)\n",
    "\n",
    "    return response.json()['data']['threaded_conversation_with_injections_v2']['instructions'][0]['entries'][0]['content']['itemContent']['tweet_results']['result']['legacy']['full_text']\n"
   ]
  },
  {
   "cell_type": "code",
   "execution_count": 6,
   "id": "78930575",
   "metadata": {},
   "outputs": [
    {
     "data": {
      "text/html": [
       "<div>\n",
       "<style scoped>\n",
       "    .dataframe tbody tr th:only-of-type {\n",
       "        vertical-align: middle;\n",
       "    }\n",
       "\n",
       "    .dataframe tbody tr th {\n",
       "        vertical-align: top;\n",
       "    }\n",
       "\n",
       "    .dataframe thead th {\n",
       "        text-align: right;\n",
       "    }\n",
       "</style>\n",
       "<table border=\"1\" class=\"dataframe\">\n",
       "  <thead>\n",
       "    <tr style=\"text-align: right;\">\n",
       "      <th></th>\n",
       "      <th>TweetID</th>\n",
       "      <th>HateLabel</th>\n",
       "    </tr>\n",
       "  </thead>\n",
       "  <tbody>\n",
       "    <tr>\n",
       "      <th>9906</th>\n",
       "      <td>1050195248385687552</td>\n",
       "      <td>2.0</td>\n",
       "    </tr>\n",
       "    <tr>\n",
       "      <th>9929</th>\n",
       "      <td>1049344613398413317</td>\n",
       "      <td>2.0</td>\n",
       "    </tr>\n",
       "    <tr>\n",
       "      <th>9950</th>\n",
       "      <td>1048608256162025472</td>\n",
       "      <td>2.0</td>\n",
       "    </tr>\n",
       "    <tr>\n",
       "      <th>9954</th>\n",
       "      <td>1072858875987197952</td>\n",
       "      <td>2.0</td>\n",
       "    </tr>\n",
       "    <tr>\n",
       "      <th>9969</th>\n",
       "      <td>1072049996776783872</td>\n",
       "      <td>2.0</td>\n",
       "    </tr>\n",
       "  </tbody>\n",
       "</table>\n",
       "</div>"
      ],
      "text/plain": [
       "                  TweetID  HateLabel\n",
       "9906  1050195248385687552        2.0\n",
       "9929  1049344613398413317        2.0\n",
       "9950  1048608256162025472        2.0\n",
       "9954  1072858875987197952        2.0\n",
       "9969  1072049996776783872        2.0"
      ]
     },
     "execution_count": 6,
     "metadata": {},
     "output_type": "execute_result"
    }
   ],
   "source": [
    "\n",
    "# Read the CSV, with error handling\n",
    "dfr = pd.read_csv('me_too_hatelabel.csv', error_bad_lines=False, lineterminator='\\n', index_col=0)\n",
    "# Check latest downloaded row to re-initiate data append from API into CSV\n",
    "dfr.tail()"
   ]
  },
  {
   "cell_type": "code",
   "execution_count": 8,
   "id": "545a8054",
   "metadata": {},
   "outputs": [
    {
     "data": {
      "text/html": [
       "<div>\n",
       "<style scoped>\n",
       "    .dataframe tbody tr th:only-of-type {\n",
       "        vertical-align: middle;\n",
       "    }\n",
       "\n",
       "    .dataframe tbody tr th {\n",
       "        vertical-align: top;\n",
       "    }\n",
       "\n",
       "    .dataframe thead th {\n",
       "        text-align: right;\n",
       "    }\n",
       "</style>\n",
       "<table border=\"1\" class=\"dataframe\">\n",
       "  <thead>\n",
       "    <tr style=\"text-align: right;\">\n",
       "      <th></th>\n",
       "      <th>TweetID</th>\n",
       "      <th>HateLabel</th>\n",
       "    </tr>\n",
       "  </thead>\n",
       "  <tbody>\n",
       "    <tr>\n",
       "      <th>3</th>\n",
       "      <td>1052156864840908800</td>\n",
       "      <td>2.0</td>\n",
       "    </tr>\n",
       "    <tr>\n",
       "      <th>9</th>\n",
       "      <td>1051939199195045890</td>\n",
       "      <td>2.0</td>\n",
       "    </tr>\n",
       "    <tr>\n",
       "      <th>11</th>\n",
       "      <td>1051816186516664320</td>\n",
       "      <td>2.0</td>\n",
       "    </tr>\n",
       "    <tr>\n",
       "      <th>67</th>\n",
       "      <td>1049549716919222272</td>\n",
       "      <td>2.0</td>\n",
       "    </tr>\n",
       "    <tr>\n",
       "      <th>90</th>\n",
       "      <td>1048892682389475329</td>\n",
       "      <td>2.0</td>\n",
       "    </tr>\n",
       "    <tr>\n",
       "      <th>...</th>\n",
       "      <td>...</td>\n",
       "      <td>...</td>\n",
       "    </tr>\n",
       "    <tr>\n",
       "      <th>9906</th>\n",
       "      <td>1050195248385687552</td>\n",
       "      <td>2.0</td>\n",
       "    </tr>\n",
       "    <tr>\n",
       "      <th>9929</th>\n",
       "      <td>1049344613398413317</td>\n",
       "      <td>2.0</td>\n",
       "    </tr>\n",
       "    <tr>\n",
       "      <th>9950</th>\n",
       "      <td>1048608256162025472</td>\n",
       "      <td>2.0</td>\n",
       "    </tr>\n",
       "    <tr>\n",
       "      <th>9954</th>\n",
       "      <td>1072858875987197952</td>\n",
       "      <td>2.0</td>\n",
       "    </tr>\n",
       "    <tr>\n",
       "      <th>9969</th>\n",
       "      <td>1072049996776783872</td>\n",
       "      <td>2.0</td>\n",
       "    </tr>\n",
       "  </tbody>\n",
       "</table>\n",
       "<p>419 rows × 2 columns</p>\n",
       "</div>"
      ],
      "text/plain": [
       "                  TweetID  HateLabel\n",
       "3     1052156864840908800        2.0\n",
       "9     1051939199195045890        2.0\n",
       "11    1051816186516664320        2.0\n",
       "67    1049549716919222272        2.0\n",
       "90    1048892682389475329        2.0\n",
       "...                   ...        ...\n",
       "9906  1050195248385687552        2.0\n",
       "9929  1049344613398413317        2.0\n",
       "9950  1048608256162025472        2.0\n",
       "9954  1072858875987197952        2.0\n",
       "9969  1072049996776783872        2.0\n",
       "\n",
       "[419 rows x 2 columns]"
      ]
     },
     "execution_count": 8,
     "metadata": {},
     "output_type": "execute_result"
    }
   ],
   "source": [
    "me_too_dataset = pd.read_csv('me_too_hatelabel.csv', error_bad_lines=False, lineterminator='\\n', index_col=0)\n",
    "me_too_dataset"
   ]
  },
  {
   "cell_type": "code",
   "execution_count": 9,
   "id": "d033366c",
   "metadata": {},
   "outputs": [
    {
     "name": "stderr",
     "output_type": "stream",
     "text": [
      "419it [07:06,  1.02s/it]\n"
     ]
    }
   ],
   "source": [
    "import pandas as pd\n",
    "import time\n",
    "import tqdm\n",
    "# for index, row in tqdm.tqdm(english_df.iloc[68597:,:].iterrows()):\n",
    "\n",
    "for index, row in tqdm.tqdm(dfr.iterrows()):\n",
    "    # time.sleep(0.125)  # to avoid hitting rate limits\n",
    "    tweet_id = row['TweetID']\n",
    "    try:\n",
    "        tweet_text = get_text(tweet_id)\n",
    "        row['TweetText'] = tweet_text\n",
    "    except Exception as e:\n",
    "        # print(f\"Failed to fetch tweet with id {tweet_id}. Error: {e}\")\n",
    "        row['TweetText'] = 'N/A'  # or whatever you want to denote a failed fetch\n",
    "    # append each row to csv file\n",
    "    if index == 0: #FIRST ENGLISH TWEET\n",
    "        row.to_frame().transpose().to_csv(\"twitter_me_too_hatelabel.csv\", mode='w',header=True, index=False)\n",
    "    else:\n",
    "        row.to_frame().transpose().to_csv(\"twitter_me_too_hatelabel.csv\", mode='a',header=False, index=False)\n"
   ]
  }
 ],
 "metadata": {
  "kernelspec": {
   "display_name": "Python 3 (ipykernel)",
   "language": "python",
   "name": "python3"
  },
  "language_info": {
   "codemirror_mode": {
    "name": "ipython",
    "version": 3
   },
   "file_extension": ".py",
   "mimetype": "text/x-python",
   "name": "python",
   "nbconvert_exporter": "python",
   "pygments_lexer": "ipython3",
   "version": "3.10.6"
  },
  "toc": {
   "base_numbering": 1,
   "nav_menu": {},
   "number_sections": true,
   "sideBar": true,
   "skip_h1_title": false,
   "title_cell": "Table of Contents",
   "title_sidebar": "Contents",
   "toc_cell": false,
   "toc_position": {},
   "toc_section_display": true,
   "toc_window_display": false
  }
 },
 "nbformat": 4,
 "nbformat_minor": 5
}
