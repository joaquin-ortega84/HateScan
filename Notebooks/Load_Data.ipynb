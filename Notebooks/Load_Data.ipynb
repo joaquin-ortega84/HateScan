{
 "cells": [
  {
   "attachments": {},
   "cell_type": "markdown",
   "id": "790542ff",
   "metadata": {},
   "source": [
    "### Making the for loop to get Tweet_text by Tweet_ID from API"
   ]
  },
  {
   "attachments": {},
   "cell_type": "markdown",
   "id": "87a1eb37",
   "metadata": {},
   "source": [
    "### Downloading data from API"
   ]
  },
  {
   "cell_type": "code",
   "execution_count": 4,
   "id": "8cc7e292",
   "metadata": {},
   "outputs": [],
   "source": [
    "import requests\n",
    "\n",
    "def get_text(id_number):\n",
    "\n",
    "    url = \"https://twitter135.p.rapidapi.com/v2/TweetDetail/\"\n",
    "\n",
    "    querystring = {\"id\":id_number}\n",
    "\n",
    "    headers = {\n",
    "    \"X-RapidAPI-Key\": \"17f84b3e3dmsh705aa22617dea22p11e224jsn75fcf7665909\",\n",
    "    \"X-RapidAPI-Host\": \"twitter135.p.rapidapi.com\"\n",
    "    }\n",
    "\n",
    "    response = requests.get(url, headers=headers, params=querystring)\n",
    "\n",
    "    return response.json()['data']['threaded_conversation_with_injections_v2']['instructions'][0]['entries'][0]['content']['itemContent']['tweet_results']['result']['legacy']['full_text']\n"
   ]
  },
  {
   "cell_type": "code",
   "execution_count": null,
   "id": "78930575",
   "metadata": {},
   "outputs": [],
   "source": [
    "\n",
    "# Read the CSV, with error handling\n",
    "dfr = pd.read_csv('twitter_data.csv', error_bad_lines=False, lineterminator='\\n')\n",
    "# Check latest downloaded row to re-initiate data append from API into CSV\n",
    "dfr.tail()"
   ]
  },
  {
   "cell_type": "code",
   "execution_count": null,
   "id": "d033366c",
   "metadata": {},
   "outputs": [
    {
     "name": "stderr",
     "output_type": "stream",
     "text": [
      "0it [00:00, ?it/s]\n"
     ]
    }
   ],
   "source": [
    "import pandas as pd\n",
    "import time\n",
    "import tqdm\n",
    "\n",
    "for index, row in tqdm.tqdm(english_df.iloc[68597:,:].iterrows()):\n",
    "    # time.sleep(0.125)  # to avoid hitting rate limits\n",
    "    tweet_id = row['TweetID']\n",
    "    try:\n",
    "        tweet_text = get_text(tweet_id)\n",
    "        row['TweetText'] = tweet_text\n",
    "    except Exception as e:\n",
    "        # print(f\"Failed to fetch tweet with id {tweet_id}. Error: {e}\")\n",
    "        row['TweetText'] = 'N/A'  # or whatever you want to denote a failed fetch\n",
    "    # append each row to csv file\n",
    "    if index == 23891: #FIRST ENGLISH TWEET\n",
    "        row.to_frame().transpose().to_csv(\"twitter_data.csv\", mode='w',header=True, index=False)\n",
    "    else:\n",
    "        row.to_frame().transpose().to_csv(\"twitter_data.csv\", mode='a',header=False, index=False)\n"
   ]
  }
 ],
 "metadata": {
  "kernelspec": {
   "display_name": "Python 3 (ipykernel)",
   "language": "python",
   "name": "python3"
  },
  "language_info": {
   "codemirror_mode": {
    "name": "ipython",
    "version": 3
   },
   "file_extension": ".py",
   "mimetype": "text/x-python",
   "name": "python",
   "nbconvert_exporter": "python",
   "pygments_lexer": "ipython3",
   "version": "3.10.6"
  },
  "toc": {
   "base_numbering": 1,
   "nav_menu": {},
   "number_sections": true,
   "sideBar": true,
   "skip_h1_title": false,
   "title_cell": "Table of Contents",
   "title_sidebar": "Contents",
   "toc_cell": false,
   "toc_position": {},
   "toc_section_display": true,
   "toc_window_display": false
  }
 },
 "nbformat": 4,
 "nbformat_minor": 5
}
