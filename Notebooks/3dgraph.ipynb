{
 "cells": [
  {
   "cell_type": "code",
   "execution_count": 25,
   "metadata": {},
   "outputs": [],
   "source": [
    "import pandas as pd\n",
    "from google.cloud import bigquery\n",
    "import plotly.express as px\n",
    "\n",
    "client = bigquery.Client()\n",
    "def run_query(query):\n",
    "    query_job = client.query(query)\n",
    "    rows_raw = query_job.result()\n",
    "    # Convert to list of dicts. Required for st.cache_data to hash the return value.\n",
    "    rows = [dict(row) for row in rows_raw]\n",
    "    df = pd.DataFrame(rows)\n",
    "    return df\n",
    "\n",
    "query = f\"\"\"\n",
    "    SELECT * \n",
    "    FROM `crucial-strata-384013.HateScann_DataSet.UserName_HateScann`\n",
    "    LIMIT 200\n",
    "\"\"\"\n",
    "df_queried = run_query(query)"
   ]
  },
  {
   "cell_type": "code",
   "execution_count": 26,
   "metadata": {},
   "outputs": [
    {
     "data": {
      "text/html": [
       "<div>\n",
       "<style scoped>\n",
       "    .dataframe tbody tr th:only-of-type {\n",
       "        vertical-align: middle;\n",
       "    }\n",
       "\n",
       "    .dataframe tbody tr th {\n",
       "        vertical-align: top;\n",
       "    }\n",
       "\n",
       "    .dataframe thead th {\n",
       "        text-align: right;\n",
       "    }\n",
       "</style>\n",
       "<table border=\"1\" class=\"dataframe\">\n",
       "  <thead>\n",
       "    <tr style=\"text-align: right;\">\n",
       "      <th></th>\n",
       "      <th>user_name</th>\n",
       "      <th>name_lastname</th>\n",
       "      <th>nr_followers</th>\n",
       "      <th>tweets_account</th>\n",
       "      <th>tweets_analysed</th>\n",
       "      <th>hate_label</th>\n",
       "      <th>Religion_class</th>\n",
       "      <th>Gender_class</th>\n",
       "      <th>Race_class</th>\n",
       "      <th>Politics_class</th>\n",
       "      <th>Sports_class</th>\n",
       "    </tr>\n",
       "  </thead>\n",
       "  <tbody>\n",
       "    <tr>\n",
       "      <th>16</th>\n",
       "      <td>RatiosCrazy</td>\n",
       "      <td>Successful Ratios</td>\n",
       "      <td>486964</td>\n",
       "      <td>2231</td>\n",
       "      <td>30</td>\n",
       "      <td>2.000000</td>\n",
       "      <td>0.11</td>\n",
       "      <td>0.39</td>\n",
       "      <td>0.10</td>\n",
       "      <td>0.34</td>\n",
       "      <td>0.06</td>\n",
       "    </tr>\n",
       "    <tr>\n",
       "      <th>20</th>\n",
       "      <td>amandabynes</td>\n",
       "      <td>amanda bynes</td>\n",
       "      <td>2420040</td>\n",
       "      <td>12</td>\n",
       "      <td>30</td>\n",
       "      <td>2.000000</td>\n",
       "      <td>0.04</td>\n",
       "      <td>0.27</td>\n",
       "      <td>0.23</td>\n",
       "      <td>0.24</td>\n",
       "      <td>0.21</td>\n",
       "    </tr>\n",
       "    <tr>\n",
       "      <th>2</th>\n",
       "      <td>ittybittybabyy1</td>\n",
       "      <td>Luh Baby</td>\n",
       "      <td>78534</td>\n",
       "      <td>18521</td>\n",
       "      <td>30</td>\n",
       "      <td>1.666667</td>\n",
       "      <td>0.07</td>\n",
       "      <td>0.18</td>\n",
       "      <td>0.27</td>\n",
       "      <td>0.43</td>\n",
       "      <td>0.04</td>\n",
       "    </tr>\n",
       "    <tr>\n",
       "      <th>13</th>\n",
       "      <td>KyrieIrving</td>\n",
       "      <td>Chief Hélà🤞🏾A11Even Tribe</td>\n",
       "      <td>4749614</td>\n",
       "      <td>3703</td>\n",
       "      <td>30</td>\n",
       "      <td>1.608696</td>\n",
       "      <td>0.18</td>\n",
       "      <td>0.37</td>\n",
       "      <td>0.10</td>\n",
       "      <td>0.21</td>\n",
       "      <td>0.14</td>\n",
       "    </tr>\n",
       "    <tr>\n",
       "      <th>5</th>\n",
       "      <td>dillondanis</td>\n",
       "      <td>Dillon Danis</td>\n",
       "      <td>336298</td>\n",
       "      <td>920</td>\n",
       "      <td>30</td>\n",
       "      <td>1.560000</td>\n",
       "      <td>0.11</td>\n",
       "      <td>0.33</td>\n",
       "      <td>0.08</td>\n",
       "      <td>0.36</td>\n",
       "      <td>0.13</td>\n",
       "    </tr>\n",
       "    <tr>\n",
       "      <th>18</th>\n",
       "      <td>TopGirlKeiko</td>\n",
       "      <td>Top Girl Keiko, J.D.</td>\n",
       "      <td>61630</td>\n",
       "      <td>69372</td>\n",
       "      <td>30</td>\n",
       "      <td>1.517241</td>\n",
       "      <td>0.19</td>\n",
       "      <td>0.32</td>\n",
       "      <td>0.04</td>\n",
       "      <td>0.37</td>\n",
       "      <td>0.09</td>\n",
       "    </tr>\n",
       "    <tr>\n",
       "      <th>10</th>\n",
       "      <td>katyperry</td>\n",
       "      <td>KATY PERRY</td>\n",
       "      <td>107670809</td>\n",
       "      <td>11927</td>\n",
       "      <td>30</td>\n",
       "      <td>1.466667</td>\n",
       "      <td>0.09</td>\n",
       "      <td>0.50</td>\n",
       "      <td>0.08</td>\n",
       "      <td>0.27</td>\n",
       "      <td>0.06</td>\n",
       "    </tr>\n",
       "    <tr>\n",
       "      <th>8</th>\n",
       "      <td>ReachTWR</td>\n",
       "      <td>THE WAR ROOM</td>\n",
       "      <td>218313</td>\n",
       "      <td>1989</td>\n",
       "      <td>30</td>\n",
       "      <td>1.360000</td>\n",
       "      <td>0.24</td>\n",
       "      <td>0.31</td>\n",
       "      <td>0.06</td>\n",
       "      <td>0.16</td>\n",
       "      <td>0.23</td>\n",
       "    </tr>\n",
       "    <tr>\n",
       "      <th>14</th>\n",
       "      <td>jimmyfallon</td>\n",
       "      <td>Jimmy Fallon</td>\n",
       "      <td>50502994</td>\n",
       "      <td>14703</td>\n",
       "      <td>30</td>\n",
       "      <td>1.285714</td>\n",
       "      <td>0.11</td>\n",
       "      <td>0.31</td>\n",
       "      <td>0.07</td>\n",
       "      <td>0.40</td>\n",
       "      <td>0.11</td>\n",
       "    </tr>\n",
       "    <tr>\n",
       "      <th>15</th>\n",
       "      <td>rihanna</td>\n",
       "      <td>Rihanna</td>\n",
       "      <td>108252917</td>\n",
       "      <td>10691</td>\n",
       "      <td>30</td>\n",
       "      <td>1.250000</td>\n",
       "      <td>0.11</td>\n",
       "      <td>0.50</td>\n",
       "      <td>0.09</td>\n",
       "      <td>0.20</td>\n",
       "      <td>0.11</td>\n",
       "    </tr>\n",
       "    <tr>\n",
       "      <th>22</th>\n",
       "      <td>JamesGunn</td>\n",
       "      <td>James Gunn</td>\n",
       "      <td>1690077</td>\n",
       "      <td>3709</td>\n",
       "      <td>30</td>\n",
       "      <td>1.241379</td>\n",
       "      <td>0.08</td>\n",
       "      <td>0.37</td>\n",
       "      <td>0.09</td>\n",
       "      <td>0.42</td>\n",
       "      <td>0.06</td>\n",
       "    </tr>\n",
       "    <tr>\n",
       "      <th>11</th>\n",
       "      <td>CeeLoGreen</td>\n",
       "      <td>CeeLo Green</td>\n",
       "      <td>1435566</td>\n",
       "      <td>9522</td>\n",
       "      <td>30</td>\n",
       "      <td>1.200000</td>\n",
       "      <td>0.09</td>\n",
       "      <td>0.43</td>\n",
       "      <td>0.10</td>\n",
       "      <td>0.27</td>\n",
       "      <td>0.10</td>\n",
       "    </tr>\n",
       "    <tr>\n",
       "      <th>25</th>\n",
       "      <td>MattWalshBlog</td>\n",
       "      <td>Matt Walsh</td>\n",
       "      <td>2223564</td>\n",
       "      <td>61274</td>\n",
       "      <td>30</td>\n",
       "      <td>1.172414</td>\n",
       "      <td>0.13</td>\n",
       "      <td>0.32</td>\n",
       "      <td>0.10</td>\n",
       "      <td>0.34</td>\n",
       "      <td>0.10</td>\n",
       "    </tr>\n",
       "    <tr>\n",
       "      <th>1</th>\n",
       "      <td>TomiLahren</td>\n",
       "      <td>Tomi Lahren</td>\n",
       "      <td>2428640</td>\n",
       "      <td>26185</td>\n",
       "      <td>30</td>\n",
       "      <td>1.166667</td>\n",
       "      <td>0.07</td>\n",
       "      <td>0.19</td>\n",
       "      <td>0.03</td>\n",
       "      <td>0.65</td>\n",
       "      <td>0.06</td>\n",
       "    </tr>\n",
       "    <tr>\n",
       "      <th>17</th>\n",
       "      <td>Cobratate</td>\n",
       "      <td>Andrew Tate</td>\n",
       "      <td>6901428</td>\n",
       "      <td>3711</td>\n",
       "      <td>30</td>\n",
       "      <td>1.153846</td>\n",
       "      <td>0.19</td>\n",
       "      <td>0.30</td>\n",
       "      <td>0.05</td>\n",
       "      <td>0.30</td>\n",
       "      <td>0.17</td>\n",
       "    </tr>\n",
       "    <tr>\n",
       "      <th>19</th>\n",
       "      <td>justinbieber</td>\n",
       "      <td>Justin Bieber</td>\n",
       "      <td>112393156</td>\n",
       "      <td>31262</td>\n",
       "      <td>30</td>\n",
       "      <td>1.142857</td>\n",
       "      <td>0.19</td>\n",
       "      <td>0.31</td>\n",
       "      <td>0.06</td>\n",
       "      <td>0.32</td>\n",
       "      <td>0.12</td>\n",
       "    </tr>\n",
       "    <tr>\n",
       "      <th>24</th>\n",
       "      <td>AmitShah</td>\n",
       "      <td>Amit Shah</td>\n",
       "      <td>33248238</td>\n",
       "      <td>20056</td>\n",
       "      <td>30</td>\n",
       "      <td>1.100000</td>\n",
       "      <td>0.13</td>\n",
       "      <td>0.38</td>\n",
       "      <td>0.07</td>\n",
       "      <td>0.36</td>\n",
       "      <td>0.06</td>\n",
       "    </tr>\n",
       "    <tr>\n",
       "      <th>4</th>\n",
       "      <td>YeonmiParkNK</td>\n",
       "      <td>Yeonmi Park</td>\n",
       "      <td>172902</td>\n",
       "      <td>3387</td>\n",
       "      <td>30</td>\n",
       "      <td>1.074074</td>\n",
       "      <td>0.20</td>\n",
       "      <td>0.30</td>\n",
       "      <td>0.04</td>\n",
       "      <td>0.44</td>\n",
       "      <td>0.03</td>\n",
       "    </tr>\n",
       "    <tr>\n",
       "      <th>26</th>\n",
       "      <td>realDonaldTrump</td>\n",
       "      <td>Donald J. Trump</td>\n",
       "      <td>86811444</td>\n",
       "      <td>59127</td>\n",
       "      <td>30</td>\n",
       "      <td>1.035714</td>\n",
       "      <td>0.06</td>\n",
       "      <td>0.11</td>\n",
       "      <td>0.05</td>\n",
       "      <td>0.76</td>\n",
       "      <td>0.02</td>\n",
       "    </tr>\n",
       "    <tr>\n",
       "      <th>31</th>\n",
       "      <td>KingCharlesUK</td>\n",
       "      <td>King Charles</td>\n",
       "      <td>19895</td>\n",
       "      <td>4804</td>\n",
       "      <td>30</td>\n",
       "      <td>1.034483</td>\n",
       "      <td>0.07</td>\n",
       "      <td>0.40</td>\n",
       "      <td>0.13</td>\n",
       "      <td>0.25</td>\n",
       "      <td>0.16</td>\n",
       "    </tr>\n",
       "    <tr>\n",
       "      <th>34</th>\n",
       "      <td>youngkingsgrow</td>\n",
       "      <td>Young Kings</td>\n",
       "      <td>10406</td>\n",
       "      <td>47</td>\n",
       "      <td>30</td>\n",
       "      <td>1.033333</td>\n",
       "      <td>0.14</td>\n",
       "      <td>0.32</td>\n",
       "      <td>0.06</td>\n",
       "      <td>0.31</td>\n",
       "      <td>0.18</td>\n",
       "    </tr>\n",
       "    <tr>\n",
       "      <th>23</th>\n",
       "      <td>DalaiLama</td>\n",
       "      <td>Dalai Lama</td>\n",
       "      <td>18871360</td>\n",
       "      <td>1893</td>\n",
       "      <td>30</td>\n",
       "      <td>1.000000</td>\n",
       "      <td>0.20</td>\n",
       "      <td>0.20</td>\n",
       "      <td>0.07</td>\n",
       "      <td>0.41</td>\n",
       "      <td>0.11</td>\n",
       "    </tr>\n",
       "    <tr>\n",
       "      <th>6</th>\n",
       "      <td>gabechoiluon</td>\n",
       "      <td>Gabe</td>\n",
       "      <td>9</td>\n",
       "      <td>5189</td>\n",
       "      <td>30</td>\n",
       "      <td>0.933333</td>\n",
       "      <td>0.08</td>\n",
       "      <td>0.28</td>\n",
       "      <td>0.10</td>\n",
       "      <td>0.39</td>\n",
       "      <td>0.15</td>\n",
       "    </tr>\n",
       "    <tr>\n",
       "      <th>33</th>\n",
       "      <td>therealroseanne</td>\n",
       "      <td>Roseanne Barr</td>\n",
       "      <td>785519</td>\n",
       "      <td>9277</td>\n",
       "      <td>30</td>\n",
       "      <td>0.800000</td>\n",
       "      <td>0.14</td>\n",
       "      <td>0.42</td>\n",
       "      <td>0.09</td>\n",
       "      <td>0.28</td>\n",
       "      <td>0.07</td>\n",
       "    </tr>\n",
       "    <tr>\n",
       "      <th>29</th>\n",
       "      <td>narendramodi</td>\n",
       "      <td>Narendra Modi</td>\n",
       "      <td>89301981</td>\n",
       "      <td>36996</td>\n",
       "      <td>30</td>\n",
       "      <td>0.733333</td>\n",
       "      <td>0.21</td>\n",
       "      <td>0.26</td>\n",
       "      <td>0.11</td>\n",
       "      <td>0.20</td>\n",
       "      <td>0.22</td>\n",
       "    </tr>\n",
       "    <tr>\n",
       "      <th>27</th>\n",
       "      <td>KimKardashian</td>\n",
       "      <td>Kim Kardashian</td>\n",
       "      <td>75052723</td>\n",
       "      <td>36311</td>\n",
       "      <td>30</td>\n",
       "      <td>0.666667</td>\n",
       "      <td>0.06</td>\n",
       "      <td>0.30</td>\n",
       "      <td>0.12</td>\n",
       "      <td>0.40</td>\n",
       "      <td>0.12</td>\n",
       "    </tr>\n",
       "    <tr>\n",
       "      <th>32</th>\n",
       "      <td>50cent</td>\n",
       "      <td>50cent</td>\n",
       "      <td>12685851</td>\n",
       "      <td>11815</td>\n",
       "      <td>30</td>\n",
       "      <td>0.666667</td>\n",
       "      <td>0.14</td>\n",
       "      <td>0.40</td>\n",
       "      <td>0.09</td>\n",
       "      <td>0.23</td>\n",
       "      <td>0.13</td>\n",
       "    </tr>\n",
       "    <tr>\n",
       "      <th>9</th>\n",
       "      <td>Cristiano</td>\n",
       "      <td>Cristiano Ronaldo</td>\n",
       "      <td>108713680</td>\n",
       "      <td>3928</td>\n",
       "      <td>30</td>\n",
       "      <td>0.600000</td>\n",
       "      <td>0.09</td>\n",
       "      <td>0.23</td>\n",
       "      <td>0.07</td>\n",
       "      <td>0.34</td>\n",
       "      <td>0.26</td>\n",
       "    </tr>\n",
       "    <tr>\n",
       "      <th>30</th>\n",
       "      <td>JoeBiden</td>\n",
       "      <td>Joe Biden</td>\n",
       "      <td>37256012</td>\n",
       "      <td>9277</td>\n",
       "      <td>30</td>\n",
       "      <td>0.466667</td>\n",
       "      <td>0.07</td>\n",
       "      <td>0.14</td>\n",
       "      <td>0.09</td>\n",
       "      <td>0.65</td>\n",
       "      <td>0.06</td>\n",
       "    </tr>\n",
       "    <tr>\n",
       "      <th>28</th>\n",
       "      <td>chrisbrown</td>\n",
       "      <td>Chris Brown</td>\n",
       "      <td>31812017</td>\n",
       "      <td>4645</td>\n",
       "      <td>30</td>\n",
       "      <td>0.400000</td>\n",
       "      <td>0.06</td>\n",
       "      <td>0.33</td>\n",
       "      <td>0.14</td>\n",
       "      <td>0.43</td>\n",
       "      <td>0.06</td>\n",
       "    </tr>\n",
       "    <tr>\n",
       "      <th>21</th>\n",
       "      <td>HillaryClinton</td>\n",
       "      <td>Hillary Clinton</td>\n",
       "      <td>31414077</td>\n",
       "      <td>14024</td>\n",
       "      <td>30</td>\n",
       "      <td>0.357143</td>\n",
       "      <td>0.08</td>\n",
       "      <td>0.27</td>\n",
       "      <td>0.09</td>\n",
       "      <td>0.49</td>\n",
       "      <td>0.06</td>\n",
       "    </tr>\n",
       "    <tr>\n",
       "      <th>12</th>\n",
       "      <td>Oprah</td>\n",
       "      <td>Oprah Winfrey</td>\n",
       "      <td>42405650</td>\n",
       "      <td>13653</td>\n",
       "      <td>30</td>\n",
       "      <td>0.275862</td>\n",
       "      <td>0.09</td>\n",
       "      <td>0.32</td>\n",
       "      <td>0.08</td>\n",
       "      <td>0.24</td>\n",
       "      <td>0.27</td>\n",
       "    </tr>\n",
       "    <tr>\n",
       "      <th>35</th>\n",
       "      <td>Pontifex</td>\n",
       "      <td>Pope Francis</td>\n",
       "      <td>18789322</td>\n",
       "      <td>4881</td>\n",
       "      <td>30</td>\n",
       "      <td>0.200000</td>\n",
       "      <td>0.53</td>\n",
       "      <td>0.12</td>\n",
       "      <td>0.10</td>\n",
       "      <td>0.17</td>\n",
       "      <td>0.08</td>\n",
       "    </tr>\n",
       "    <tr>\n",
       "      <th>0</th>\n",
       "      <td>jester2806</td>\n",
       "      <td>Jester</td>\n",
       "      <td>66</td>\n",
       "      <td>34665</td>\n",
       "      <td>30</td>\n",
       "      <td>0.200000</td>\n",
       "      <td>0.05</td>\n",
       "      <td>0.13</td>\n",
       "      <td>0.15</td>\n",
       "      <td>0.48</td>\n",
       "      <td>0.19</td>\n",
       "    </tr>\n",
       "    <tr>\n",
       "      <th>3</th>\n",
       "      <td>SargsianNikita</td>\n",
       "      <td>Niksarg</td>\n",
       "      <td>14</td>\n",
       "      <td>593</td>\n",
       "      <td>30</td>\n",
       "      <td>0.200000</td>\n",
       "      <td>0.04</td>\n",
       "      <td>0.07</td>\n",
       "      <td>0.16</td>\n",
       "      <td>0.58</td>\n",
       "      <td>0.15</td>\n",
       "    </tr>\n",
       "    <tr>\n",
       "      <th>36</th>\n",
       "      <td>BarackObama</td>\n",
       "      <td>Barack Obama</td>\n",
       "      <td>132334803</td>\n",
       "      <td>16843</td>\n",
       "      <td>50</td>\n",
       "      <td>0.200000</td>\n",
       "      <td>0.08</td>\n",
       "      <td>0.22</td>\n",
       "      <td>0.07</td>\n",
       "      <td>0.47</td>\n",
       "      <td>0.16</td>\n",
       "    </tr>\n",
       "    <tr>\n",
       "      <th>7</th>\n",
       "      <td>moonzyNFT</td>\n",
       "      <td>Moonzy</td>\n",
       "      <td>212</td>\n",
       "      <td>324</td>\n",
       "      <td>30</td>\n",
       "      <td>0.133333</td>\n",
       "      <td>0.06</td>\n",
       "      <td>0.16</td>\n",
       "      <td>0.10</td>\n",
       "      <td>0.49</td>\n",
       "      <td>0.18</td>\n",
       "    </tr>\n",
       "  </tbody>\n",
       "</table>\n",
       "</div>"
      ],
      "text/plain": [
       "          user_name              name_lastname  nr_followers  tweets_account  \\\n",
       "16      RatiosCrazy          Successful Ratios        486964            2231   \n",
       "20      amandabynes               amanda bynes       2420040              12   \n",
       "2   ittybittybabyy1                   Luh Baby         78534           18521   \n",
       "13      KyrieIrving  Chief Hélà🤞🏾A11Even Tribe       4749614            3703   \n",
       "5       dillondanis               Dillon Danis        336298             920   \n",
       "18     TopGirlKeiko       Top Girl Keiko, J.D.         61630           69372   \n",
       "10        katyperry                 KATY PERRY     107670809           11927   \n",
       "8          ReachTWR               THE WAR ROOM        218313            1989   \n",
       "14      jimmyfallon               Jimmy Fallon      50502994           14703   \n",
       "15          rihanna                    Rihanna     108252917           10691   \n",
       "22        JamesGunn                 James Gunn       1690077            3709   \n",
       "11       CeeLoGreen                CeeLo Green       1435566            9522   \n",
       "25    MattWalshBlog                 Matt Walsh       2223564           61274   \n",
       "1        TomiLahren                Tomi Lahren       2428640           26185   \n",
       "17        Cobratate                Andrew Tate       6901428            3711   \n",
       "19     justinbieber              Justin Bieber     112393156           31262   \n",
       "24         AmitShah                  Amit Shah      33248238           20056   \n",
       "4      YeonmiParkNK                Yeonmi Park        172902            3387   \n",
       "26  realDonaldTrump            Donald J. Trump      86811444           59127   \n",
       "31    KingCharlesUK               King Charles         19895            4804   \n",
       "34   youngkingsgrow                Young Kings         10406              47   \n",
       "23        DalaiLama                 Dalai Lama      18871360            1893   \n",
       "6      gabechoiluon                       Gabe             9            5189   \n",
       "33  therealroseanne              Roseanne Barr        785519            9277   \n",
       "29     narendramodi              Narendra Modi      89301981           36996   \n",
       "27    KimKardashian             Kim Kardashian      75052723           36311   \n",
       "32           50cent                     50cent      12685851           11815   \n",
       "9         Cristiano          Cristiano Ronaldo     108713680            3928   \n",
       "30         JoeBiden                  Joe Biden      37256012            9277   \n",
       "28       chrisbrown                Chris Brown      31812017            4645   \n",
       "21   HillaryClinton            Hillary Clinton      31414077           14024   \n",
       "12            Oprah              Oprah Winfrey      42405650           13653   \n",
       "35         Pontifex               Pope Francis      18789322            4881   \n",
       "0        jester2806                     Jester            66           34665   \n",
       "3    SargsianNikita                    Niksarg            14             593   \n",
       "36      BarackObama               Barack Obama     132334803           16843   \n",
       "7         moonzyNFT                     Moonzy           212             324   \n",
       "\n",
       "    tweets_analysed  hate_label  Religion_class  Gender_class  Race_class  \\\n",
       "16               30    2.000000            0.11          0.39        0.10   \n",
       "20               30    2.000000            0.04          0.27        0.23   \n",
       "2                30    1.666667            0.07          0.18        0.27   \n",
       "13               30    1.608696            0.18          0.37        0.10   \n",
       "5                30    1.560000            0.11          0.33        0.08   \n",
       "18               30    1.517241            0.19          0.32        0.04   \n",
       "10               30    1.466667            0.09          0.50        0.08   \n",
       "8                30    1.360000            0.24          0.31        0.06   \n",
       "14               30    1.285714            0.11          0.31        0.07   \n",
       "15               30    1.250000            0.11          0.50        0.09   \n",
       "22               30    1.241379            0.08          0.37        0.09   \n",
       "11               30    1.200000            0.09          0.43        0.10   \n",
       "25               30    1.172414            0.13          0.32        0.10   \n",
       "1                30    1.166667            0.07          0.19        0.03   \n",
       "17               30    1.153846            0.19          0.30        0.05   \n",
       "19               30    1.142857            0.19          0.31        0.06   \n",
       "24               30    1.100000            0.13          0.38        0.07   \n",
       "4                30    1.074074            0.20          0.30        0.04   \n",
       "26               30    1.035714            0.06          0.11        0.05   \n",
       "31               30    1.034483            0.07          0.40        0.13   \n",
       "34               30    1.033333            0.14          0.32        0.06   \n",
       "23               30    1.000000            0.20          0.20        0.07   \n",
       "6                30    0.933333            0.08          0.28        0.10   \n",
       "33               30    0.800000            0.14          0.42        0.09   \n",
       "29               30    0.733333            0.21          0.26        0.11   \n",
       "27               30    0.666667            0.06          0.30        0.12   \n",
       "32               30    0.666667            0.14          0.40        0.09   \n",
       "9                30    0.600000            0.09          0.23        0.07   \n",
       "30               30    0.466667            0.07          0.14        0.09   \n",
       "28               30    0.400000            0.06          0.33        0.14   \n",
       "21               30    0.357143            0.08          0.27        0.09   \n",
       "12               30    0.275862            0.09          0.32        0.08   \n",
       "35               30    0.200000            0.53          0.12        0.10   \n",
       "0                30    0.200000            0.05          0.13        0.15   \n",
       "3                30    0.200000            0.04          0.07        0.16   \n",
       "36               50    0.200000            0.08          0.22        0.07   \n",
       "7                30    0.133333            0.06          0.16        0.10   \n",
       "\n",
       "    Politics_class  Sports_class  \n",
       "16            0.34          0.06  \n",
       "20            0.24          0.21  \n",
       "2             0.43          0.04  \n",
       "13            0.21          0.14  \n",
       "5             0.36          0.13  \n",
       "18            0.37          0.09  \n",
       "10            0.27          0.06  \n",
       "8             0.16          0.23  \n",
       "14            0.40          0.11  \n",
       "15            0.20          0.11  \n",
       "22            0.42          0.06  \n",
       "11            0.27          0.10  \n",
       "25            0.34          0.10  \n",
       "1             0.65          0.06  \n",
       "17            0.30          0.17  \n",
       "19            0.32          0.12  \n",
       "24            0.36          0.06  \n",
       "4             0.44          0.03  \n",
       "26            0.76          0.02  \n",
       "31            0.25          0.16  \n",
       "34            0.31          0.18  \n",
       "23            0.41          0.11  \n",
       "6             0.39          0.15  \n",
       "33            0.28          0.07  \n",
       "29            0.20          0.22  \n",
       "27            0.40          0.12  \n",
       "32            0.23          0.13  \n",
       "9             0.34          0.26  \n",
       "30            0.65          0.06  \n",
       "28            0.43          0.06  \n",
       "21            0.49          0.06  \n",
       "12            0.24          0.27  \n",
       "35            0.17          0.08  \n",
       "0             0.48          0.19  \n",
       "3             0.58          0.15  \n",
       "36            0.47          0.16  \n",
       "7             0.49          0.18  "
      ]
     },
     "execution_count": 26,
     "metadata": {},
     "output_type": "execute_result"
    }
   ],
   "source": [
    "df_queried.sort_values(by=['hate_label'],ascending=False)"
   ]
  },
  {
   "cell_type": "code",
   "execution_count": 27,
   "metadata": {},
   "outputs": [],
   "source": [
    "from sklearn.decomposition import PCA\n",
    "\n",
    "pca = PCA(n_components=3)\n",
    "\n",
    "pca_df = pca.fit_transform(df_queried[['Religion_class', 'Gender_class', 'Race_class', 'Politics_class', 'Sports_class']])"
   ]
  },
  {
   "cell_type": "code",
   "execution_count": 28,
   "metadata": {},
   "outputs": [],
   "source": [
    "pca_df = pd.DataFrame(pca_df, columns=['pca_1', 'pca_2', 'pca_3'])\n",
    "df_combined = pd.concat([df_queried, pca_df], axis=1)"
   ]
  },
  {
   "cell_type": "code",
   "execution_count": 29,
   "metadata": {},
   "outputs": [],
   "source": [
    "def transform_hate_label(scale):\n",
    "    if 0 <= scale < 0.85:\n",
    "        return 0\n",
    "    elif 0.85 <= scale < 1.5:\n",
    "        return 1\n",
    "    elif scale >= 1.5:\n",
    "        return 2"
   ]
  },
  {
   "cell_type": "code",
   "execution_count": 30,
   "metadata": {},
   "outputs": [],
   "source": [
    "lala = transform_hate_label(1.76)"
   ]
  },
  {
   "cell_type": "code",
   "execution_count": 31,
   "metadata": {},
   "outputs": [
    {
     "data": {
      "text/plain": [
       "int"
      ]
     },
     "execution_count": 31,
     "metadata": {},
     "output_type": "execute_result"
    }
   ],
   "source": [
    "type(lala)"
   ]
  },
  {
   "cell_type": "code",
   "execution_count": 32,
   "metadata": {},
   "outputs": [
    {
     "data": {
      "application/vnd.plotly.v1+json": {
       "config": {
        "plotlyServerURL": "https://plot.ly"
       },
       "data": [
        {
         "customdata": [
          [
           0,
           "Jester",
           66,
           "Normal"
          ],
          [
           1,
           "Tomi Lahren",
           2428640,
           "Offensive"
          ],
          [
           2,
           "Luh Baby",
           78534,
           "Hate"
          ],
          [
           0,
           "Niksarg",
           14,
           "Normal"
          ],
          [
           1,
           "Yeonmi Park",
           172902,
           "Offensive"
          ],
          [
           2,
           "Dillon Danis",
           336298,
           "Hate"
          ],
          [
           1,
           "Gabe",
           9,
           "Offensive"
          ],
          [
           0,
           "Moonzy",
           212,
           "Normal"
          ],
          [
           1,
           "THE WAR ROOM",
           218313,
           "Offensive"
          ],
          [
           0,
           "Cristiano Ronaldo",
           108713680,
           "Normal"
          ],
          [
           1,
           "KATY PERRY",
           107670809,
           "Offensive"
          ],
          [
           1,
           "CeeLo Green",
           1435566,
           "Offensive"
          ],
          [
           0,
           "Oprah Winfrey",
           42405650,
           "Normal"
          ],
          [
           2,
           "Chief Hélà🤞🏾A11Even Tribe",
           4749614,
           "Hate"
          ],
          [
           1,
           "Jimmy Fallon",
           50502994,
           "Offensive"
          ],
          [
           1,
           "Rihanna",
           108252917,
           "Offensive"
          ],
          [
           2,
           "Successful Ratios",
           486964,
           "Hate"
          ],
          [
           1,
           "Andrew Tate",
           6901428,
           "Offensive"
          ],
          [
           2,
           "Top Girl Keiko, J.D.",
           61630,
           "Hate"
          ],
          [
           1,
           "Justin Bieber",
           112393156,
           "Offensive"
          ],
          [
           2,
           "amanda bynes",
           2420040,
           "Hate"
          ],
          [
           0,
           "Hillary Clinton",
           31414077,
           "Normal"
          ],
          [
           1,
           "James Gunn",
           1690077,
           "Offensive"
          ],
          [
           1,
           "Dalai Lama",
           18871360,
           "Offensive"
          ],
          [
           1,
           "Amit Shah",
           33248238,
           "Offensive"
          ],
          [
           1,
           "Matt Walsh",
           2223564,
           "Offensive"
          ],
          [
           1,
           "Donald J. Trump",
           86811444,
           "Offensive"
          ],
          [
           0,
           "Kim Kardashian",
           75052723,
           "Normal"
          ],
          [
           0,
           "Chris Brown",
           31812017,
           "Normal"
          ],
          [
           0,
           "Narendra Modi",
           89301981,
           "Normal"
          ],
          [
           0,
           "Joe Biden",
           37256012,
           "Normal"
          ],
          [
           1,
           "King Charles",
           19895,
           "Offensive"
          ],
          [
           0,
           "50cent",
           12685851,
           "Normal"
          ],
          [
           0,
           "Roseanne Barr",
           785519,
           "Normal"
          ],
          [
           1,
           "Young Kings",
           10406,
           "Offensive"
          ],
          [
           0,
           "Pope Francis",
           18789322,
           "Normal"
          ],
          [
           0,
           "Barack Obama",
           132334803,
           "Normal"
          ]
         ],
         "hovertemplate": "<b>%{hovertext}</b><br>Hate Label: %{customdata[3]}<br>Followers: %{customdata[2]:,.0f}",
         "hovertext": [
          "Jester",
          "Tomi Lahren",
          "Luh Baby",
          "Niksarg",
          "Yeonmi Park",
          "Dillon Danis",
          "Gabe",
          "Moonzy",
          "THE WAR ROOM",
          "Cristiano Ronaldo",
          "KATY PERRY",
          "CeeLo Green",
          "Oprah Winfrey",
          "Chief Hélà🤞🏾A11Even Tribe",
          "Jimmy Fallon",
          "Rihanna",
          "Successful Ratios",
          "Andrew Tate",
          "Top Girl Keiko, J.D.",
          "Justin Bieber",
          "amanda bynes",
          "Hillary Clinton",
          "James Gunn",
          "Dalai Lama",
          "Amit Shah",
          "Matt Walsh",
          "Donald J. Trump",
          "Kim Kardashian",
          "Chris Brown",
          "Narendra Modi",
          "Joe Biden",
          "King Charles",
          "50cent",
          "Roseanne Barr",
          "Young Kings",
          "Pope Francis",
          "Barack Obama"
         ],
         "legendgroup": "",
         "marker": {
          "color": [
           0,
           1,
           2,
           0,
           1,
           2,
           1,
           0,
           1,
           0,
           1,
           1,
           0,
           2,
           1,
           1,
           2,
           1,
           2,
           1,
           2,
           0,
           1,
           1,
           1,
           1,
           1,
           0,
           0,
           0,
           0,
           1,
           0,
           0,
           1,
           0,
           0
          ],
          "coloraxis": "coloraxis",
          "size": [
           0.000043072572433218126,
           1.8352172747554205,
           0.05933813597049918,
           0.0000037782958274752745,
           0.13064818009993653,
           0.25411986510516654,
           0,
           0.00015339881059549615,
           0.1649634184642325,
           82.15048190576395,
           81.36242687618495,
           1.0847918046405847,
           32.044211290342886,
           3.58908255073114,
           38.163043500109275,
           81.80230212169295,
           0.36797200893364446,
           5.215120522271716,
           0.04656447343697078,
           84.93091166938304,
           1.8287186059321632,
           23.738328409684907,
           1.2771153745098967,
           14.260309348424268,
           25.124328980328485,
           1.6802497157323566,
           65.5998565275282,
           56.71427122937902,
           24.039035418002012,
           67.48185363858276,
           28.15284013666126,
           0.015027038165034663,
           9.58617277932212,
           0.5935778310880206,
           0.007856588343652085,
           14.198316581805386,
           100
          ],
          "sizemode": "area",
          "sizeref": 0.04,
          "symbol": "circle"
         },
         "mode": "markers",
         "name": "",
         "opacity": 1,
         "scene": "scene",
         "showlegend": false,
         "type": "scatter3d",
         "x": [
          0.1790081528594111,
          0.30308029848489454,
          0.1294203818673193,
          0.2987683541502579,
          0.0476101510469366,
          -0.02390431368168045,
          0.029876919503834344,
          0.1713853266348114,
          -0.22649626335746387,
          -0.005197884427017585,
          -0.1658235275339735,
          -0.13754488692297773,
          -0.13263154681656025,
          -0.18640044581817852,
          0.021475055240664318,
          -0.23555157761129697,
          -0.05979899691529157,
          -0.0849016678602049,
          -0.02567828986783196,
          -0.0663535692194314,
          -0.08714751440012286,
          0.1296941623767213,
          0.023757157425638657,
          0.060003494731930236,
          -0.04359041893557281,
          -0.03664970831059228,
          0.44080369030353395,
          0.03775048769598768,
          0.056575334006107814,
          -0.16012715972281039,
          0.32751240381774616,
          -0.1425307438777807,
          -0.17296233554562393,
          -0.1329175794663904,
          -0.0749771299930388,
          -0.17907931877262154,
          0.12354350891066763
         ],
         "y": [
          0.05514062048066734,
          -0.024518512190588364,
          0.014565999696941608,
          0.06591607485982384,
          0.016811721827245704,
          -0.03348234444998938,
          -0.020565689465871714,
          0.037848168408874894,
          0.12014368288213026,
          0.049410056936899954,
          -0.16255563590555164,
          -0.10680699647778302,
          0.005499878619166782,
          0.013010177150776223,
          -0.029888171186093927,
          -0.12826527241700927,
          -0.08454962214330458,
          0.058913731578773186,
          0.018812656851598473,
          0.03950560588914077,
          -0.005226046155351379,
          -0.04668844772549193,
          -0.10436511901743997,
          0.10563771589684733,
          -0.06729688567462094,
          -0.015178534778973962,
          -0.0015924023527190965,
          -0.05519017395532981,
          -0.0920562299050868,
          0.12577783414976626,
          0.009872043031129863,
          -0.08543800961123033,
          -0.03996842089391111,
          -0.07314303955775836,
          0.011310680292743673,
          0.4189989827816951,
          0.0095999225298851
         ],
         "z": [
          0.12650536947488092,
          -0.0675883439693903,
          0.047877734715914964,
          0.10300183309996302,
          -0.1404354773327353,
          -0.0014673058560444182,
          0.04281634942848582,
          0.08709602693589355,
          0.04111022165156203,
          0.12904056396656446,
          -0.06862206136998518,
          -0.014213035777908547,
          0.13500394807174154,
          -0.004214276338319836,
          -0.02147818523544798,
          -0.026239801944687384,
          -0.05624918530146777,
          -0.00458040616574622,
          -0.08415928950798436,
          -0.04308945383108748,
          0.18370238220432733,
          -0.0415283396362596,
          -0.05520730111048235,
          -0.03989805812171923,
          -0.07819641550816882,
          -0.01904828473818872,
          -0.08422785908926451,
          0.031339790456492024,
          -0.018823723034647154,
          0.0722693993029932,
          -0.033560989913707005,
          0.0607062905078717,
          -0.006050716842263521,
          -0.0642021100870046,
          0.02432301130125266,
          -0.1515256081382473,
          0.03981330773281492
         ]
        }
       ],
       "layout": {
        "coloraxis": {
         "cmax": 2,
         "cmin": 0,
         "colorbar": {
          "len": 1,
          "thickness": 15,
          "title": {
           "text": "Hate Label"
          }
         },
         "colorscale": [
          [
           0,
           "rgb(0, 147, 146)"
          ],
          [
           0.16666666666666666,
           "rgb(57, 177, 133)"
          ],
          [
           0.3333333333333333,
           "rgb(156, 203, 134)"
          ],
          [
           0.5,
           "rgb(233, 226, 156)"
          ],
          [
           0.6666666666666666,
           "rgb(238, 180, 121)"
          ],
          [
           0.8333333333333334,
           "rgb(232, 132, 113)"
          ],
          [
           1,
           "rgb(207, 89, 126)"
          ]
         ]
        },
        "legend": {
         "itemsizing": "constant",
         "tracegroupgap": 0
        },
        "margin": {
         "b": 0,
         "l": 0,
         "r": 0,
         "t": 0
        },
        "scene": {
         "camera": {
          "eye": {
           "x": 1,
           "y": -1.5,
           "z": 1
          }
         },
         "domain": {
          "x": [
           0,
           1
          ],
          "y": [
           0,
           1
          ]
         },
         "xaxis": {
          "title": {
           "text": "PCA 1"
          }
         },
         "yaxis": {
          "title": {
           "text": "PCA 2"
          }
         },
         "zaxis": {
          "title": {
           "text": "PCA 3"
          }
         }
        },
        "template": {
         "data": {
          "bar": [
           {
            "error_x": {
             "color": "#2a3f5f"
            },
            "error_y": {
             "color": "#2a3f5f"
            },
            "marker": {
             "line": {
              "color": "#E5ECF6",
              "width": 0.5
             },
             "pattern": {
              "fillmode": "overlay",
              "size": 10,
              "solidity": 0.2
             }
            },
            "type": "bar"
           }
          ],
          "barpolar": [
           {
            "marker": {
             "line": {
              "color": "#E5ECF6",
              "width": 0.5
             },
             "pattern": {
              "fillmode": "overlay",
              "size": 10,
              "solidity": 0.2
             }
            },
            "type": "barpolar"
           }
          ],
          "carpet": [
           {
            "aaxis": {
             "endlinecolor": "#2a3f5f",
             "gridcolor": "white",
             "linecolor": "white",
             "minorgridcolor": "white",
             "startlinecolor": "#2a3f5f"
            },
            "baxis": {
             "endlinecolor": "#2a3f5f",
             "gridcolor": "white",
             "linecolor": "white",
             "minorgridcolor": "white",
             "startlinecolor": "#2a3f5f"
            },
            "type": "carpet"
           }
          ],
          "choropleth": [
           {
            "colorbar": {
             "outlinewidth": 0,
             "ticks": ""
            },
            "type": "choropleth"
           }
          ],
          "contour": [
           {
            "colorbar": {
             "outlinewidth": 0,
             "ticks": ""
            },
            "colorscale": [
             [
              0,
              "#0d0887"
             ],
             [
              0.1111111111111111,
              "#46039f"
             ],
             [
              0.2222222222222222,
              "#7201a8"
             ],
             [
              0.3333333333333333,
              "#9c179e"
             ],
             [
              0.4444444444444444,
              "#bd3786"
             ],
             [
              0.5555555555555556,
              "#d8576b"
             ],
             [
              0.6666666666666666,
              "#ed7953"
             ],
             [
              0.7777777777777778,
              "#fb9f3a"
             ],
             [
              0.8888888888888888,
              "#fdca26"
             ],
             [
              1,
              "#f0f921"
             ]
            ],
            "type": "contour"
           }
          ],
          "contourcarpet": [
           {
            "colorbar": {
             "outlinewidth": 0,
             "ticks": ""
            },
            "type": "contourcarpet"
           }
          ],
          "heatmap": [
           {
            "colorbar": {
             "outlinewidth": 0,
             "ticks": ""
            },
            "colorscale": [
             [
              0,
              "#0d0887"
             ],
             [
              0.1111111111111111,
              "#46039f"
             ],
             [
              0.2222222222222222,
              "#7201a8"
             ],
             [
              0.3333333333333333,
              "#9c179e"
             ],
             [
              0.4444444444444444,
              "#bd3786"
             ],
             [
              0.5555555555555556,
              "#d8576b"
             ],
             [
              0.6666666666666666,
              "#ed7953"
             ],
             [
              0.7777777777777778,
              "#fb9f3a"
             ],
             [
              0.8888888888888888,
              "#fdca26"
             ],
             [
              1,
              "#f0f921"
             ]
            ],
            "type": "heatmap"
           }
          ],
          "heatmapgl": [
           {
            "colorbar": {
             "outlinewidth": 0,
             "ticks": ""
            },
            "colorscale": [
             [
              0,
              "#0d0887"
             ],
             [
              0.1111111111111111,
              "#46039f"
             ],
             [
              0.2222222222222222,
              "#7201a8"
             ],
             [
              0.3333333333333333,
              "#9c179e"
             ],
             [
              0.4444444444444444,
              "#bd3786"
             ],
             [
              0.5555555555555556,
              "#d8576b"
             ],
             [
              0.6666666666666666,
              "#ed7953"
             ],
             [
              0.7777777777777778,
              "#fb9f3a"
             ],
             [
              0.8888888888888888,
              "#fdca26"
             ],
             [
              1,
              "#f0f921"
             ]
            ],
            "type": "heatmapgl"
           }
          ],
          "histogram": [
           {
            "marker": {
             "pattern": {
              "fillmode": "overlay",
              "size": 10,
              "solidity": 0.2
             }
            },
            "type": "histogram"
           }
          ],
          "histogram2d": [
           {
            "colorbar": {
             "outlinewidth": 0,
             "ticks": ""
            },
            "colorscale": [
             [
              0,
              "#0d0887"
             ],
             [
              0.1111111111111111,
              "#46039f"
             ],
             [
              0.2222222222222222,
              "#7201a8"
             ],
             [
              0.3333333333333333,
              "#9c179e"
             ],
             [
              0.4444444444444444,
              "#bd3786"
             ],
             [
              0.5555555555555556,
              "#d8576b"
             ],
             [
              0.6666666666666666,
              "#ed7953"
             ],
             [
              0.7777777777777778,
              "#fb9f3a"
             ],
             [
              0.8888888888888888,
              "#fdca26"
             ],
             [
              1,
              "#f0f921"
             ]
            ],
            "type": "histogram2d"
           }
          ],
          "histogram2dcontour": [
           {
            "colorbar": {
             "outlinewidth": 0,
             "ticks": ""
            },
            "colorscale": [
             [
              0,
              "#0d0887"
             ],
             [
              0.1111111111111111,
              "#46039f"
             ],
             [
              0.2222222222222222,
              "#7201a8"
             ],
             [
              0.3333333333333333,
              "#9c179e"
             ],
             [
              0.4444444444444444,
              "#bd3786"
             ],
             [
              0.5555555555555556,
              "#d8576b"
             ],
             [
              0.6666666666666666,
              "#ed7953"
             ],
             [
              0.7777777777777778,
              "#fb9f3a"
             ],
             [
              0.8888888888888888,
              "#fdca26"
             ],
             [
              1,
              "#f0f921"
             ]
            ],
            "type": "histogram2dcontour"
           }
          ],
          "mesh3d": [
           {
            "colorbar": {
             "outlinewidth": 0,
             "ticks": ""
            },
            "type": "mesh3d"
           }
          ],
          "parcoords": [
           {
            "line": {
             "colorbar": {
              "outlinewidth": 0,
              "ticks": ""
             }
            },
            "type": "parcoords"
           }
          ],
          "pie": [
           {
            "automargin": true,
            "type": "pie"
           }
          ],
          "scatter": [
           {
            "fillpattern": {
             "fillmode": "overlay",
             "size": 10,
             "solidity": 0.2
            },
            "type": "scatter"
           }
          ],
          "scatter3d": [
           {
            "line": {
             "colorbar": {
              "outlinewidth": 0,
              "ticks": ""
             }
            },
            "marker": {
             "colorbar": {
              "outlinewidth": 0,
              "ticks": ""
             }
            },
            "type": "scatter3d"
           }
          ],
          "scattercarpet": [
           {
            "marker": {
             "colorbar": {
              "outlinewidth": 0,
              "ticks": ""
             }
            },
            "type": "scattercarpet"
           }
          ],
          "scattergeo": [
           {
            "marker": {
             "colorbar": {
              "outlinewidth": 0,
              "ticks": ""
             }
            },
            "type": "scattergeo"
           }
          ],
          "scattergl": [
           {
            "marker": {
             "colorbar": {
              "outlinewidth": 0,
              "ticks": ""
             }
            },
            "type": "scattergl"
           }
          ],
          "scattermapbox": [
           {
            "marker": {
             "colorbar": {
              "outlinewidth": 0,
              "ticks": ""
             }
            },
            "type": "scattermapbox"
           }
          ],
          "scatterpolar": [
           {
            "marker": {
             "colorbar": {
              "outlinewidth": 0,
              "ticks": ""
             }
            },
            "type": "scatterpolar"
           }
          ],
          "scatterpolargl": [
           {
            "marker": {
             "colorbar": {
              "outlinewidth": 0,
              "ticks": ""
             }
            },
            "type": "scatterpolargl"
           }
          ],
          "scatterternary": [
           {
            "marker": {
             "colorbar": {
              "outlinewidth": 0,
              "ticks": ""
             }
            },
            "type": "scatterternary"
           }
          ],
          "surface": [
           {
            "colorbar": {
             "outlinewidth": 0,
             "ticks": ""
            },
            "colorscale": [
             [
              0,
              "#0d0887"
             ],
             [
              0.1111111111111111,
              "#46039f"
             ],
             [
              0.2222222222222222,
              "#7201a8"
             ],
             [
              0.3333333333333333,
              "#9c179e"
             ],
             [
              0.4444444444444444,
              "#bd3786"
             ],
             [
              0.5555555555555556,
              "#d8576b"
             ],
             [
              0.6666666666666666,
              "#ed7953"
             ],
             [
              0.7777777777777778,
              "#fb9f3a"
             ],
             [
              0.8888888888888888,
              "#fdca26"
             ],
             [
              1,
              "#f0f921"
             ]
            ],
            "type": "surface"
           }
          ],
          "table": [
           {
            "cells": {
             "fill": {
              "color": "#EBF0F8"
             },
             "line": {
              "color": "white"
             }
            },
            "header": {
             "fill": {
              "color": "#C8D4E3"
             },
             "line": {
              "color": "white"
             }
            },
            "type": "table"
           }
          ]
         },
         "layout": {
          "annotationdefaults": {
           "arrowcolor": "#2a3f5f",
           "arrowhead": 0,
           "arrowwidth": 1
          },
          "autotypenumbers": "strict",
          "coloraxis": {
           "colorbar": {
            "outlinewidth": 0,
            "ticks": ""
           }
          },
          "colorscale": {
           "diverging": [
            [
             0,
             "#8e0152"
            ],
            [
             0.1,
             "#c51b7d"
            ],
            [
             0.2,
             "#de77ae"
            ],
            [
             0.3,
             "#f1b6da"
            ],
            [
             0.4,
             "#fde0ef"
            ],
            [
             0.5,
             "#f7f7f7"
            ],
            [
             0.6,
             "#e6f5d0"
            ],
            [
             0.7,
             "#b8e186"
            ],
            [
             0.8,
             "#7fbc41"
            ],
            [
             0.9,
             "#4d9221"
            ],
            [
             1,
             "#276419"
            ]
           ],
           "sequential": [
            [
             0,
             "#0d0887"
            ],
            [
             0.1111111111111111,
             "#46039f"
            ],
            [
             0.2222222222222222,
             "#7201a8"
            ],
            [
             0.3333333333333333,
             "#9c179e"
            ],
            [
             0.4444444444444444,
             "#bd3786"
            ],
            [
             0.5555555555555556,
             "#d8576b"
            ],
            [
             0.6666666666666666,
             "#ed7953"
            ],
            [
             0.7777777777777778,
             "#fb9f3a"
            ],
            [
             0.8888888888888888,
             "#fdca26"
            ],
            [
             1,
             "#f0f921"
            ]
           ],
           "sequentialminus": [
            [
             0,
             "#0d0887"
            ],
            [
             0.1111111111111111,
             "#46039f"
            ],
            [
             0.2222222222222222,
             "#7201a8"
            ],
            [
             0.3333333333333333,
             "#9c179e"
            ],
            [
             0.4444444444444444,
             "#bd3786"
            ],
            [
             0.5555555555555556,
             "#d8576b"
            ],
            [
             0.6666666666666666,
             "#ed7953"
            ],
            [
             0.7777777777777778,
             "#fb9f3a"
            ],
            [
             0.8888888888888888,
             "#fdca26"
            ],
            [
             1,
             "#f0f921"
            ]
           ]
          },
          "colorway": [
           "#636efa",
           "#EF553B",
           "#00cc96",
           "#ab63fa",
           "#FFA15A",
           "#19d3f3",
           "#FF6692",
           "#B6E880",
           "#FF97FF",
           "#FECB52"
          ],
          "font": {
           "color": "#2a3f5f"
          },
          "geo": {
           "bgcolor": "white",
           "lakecolor": "white",
           "landcolor": "#E5ECF6",
           "showlakes": true,
           "showland": true,
           "subunitcolor": "white"
          },
          "hoverlabel": {
           "align": "left"
          },
          "hovermode": "closest",
          "mapbox": {
           "style": "light"
          },
          "paper_bgcolor": "white",
          "plot_bgcolor": "#E5ECF6",
          "polar": {
           "angularaxis": {
            "gridcolor": "white",
            "linecolor": "white",
            "ticks": ""
           },
           "bgcolor": "#E5ECF6",
           "radialaxis": {
            "gridcolor": "white",
            "linecolor": "white",
            "ticks": ""
           }
          },
          "scene": {
           "xaxis": {
            "backgroundcolor": "#E5ECF6",
            "gridcolor": "white",
            "gridwidth": 2,
            "linecolor": "white",
            "showbackground": true,
            "ticks": "",
            "zerolinecolor": "white"
           },
           "yaxis": {
            "backgroundcolor": "#E5ECF6",
            "gridcolor": "white",
            "gridwidth": 2,
            "linecolor": "white",
            "showbackground": true,
            "ticks": "",
            "zerolinecolor": "white"
           },
           "zaxis": {
            "backgroundcolor": "#E5ECF6",
            "gridcolor": "white",
            "gridwidth": 2,
            "linecolor": "white",
            "showbackground": true,
            "ticks": "",
            "zerolinecolor": "white"
           }
          },
          "shapedefaults": {
           "line": {
            "color": "#2a3f5f"
           }
          },
          "ternary": {
           "aaxis": {
            "gridcolor": "white",
            "linecolor": "white",
            "ticks": ""
           },
           "baxis": {
            "gridcolor": "white",
            "linecolor": "white",
            "ticks": ""
           },
           "bgcolor": "#E5ECF6",
           "caxis": {
            "gridcolor": "white",
            "linecolor": "white",
            "ticks": ""
           }
          },
          "title": {
           "x": 0.05
          },
          "xaxis": {
           "automargin": true,
           "gridcolor": "white",
           "linecolor": "white",
           "ticks": "",
           "title": {
            "standoff": 15
           },
           "zerolinecolor": "white",
           "zerolinewidth": 2
          },
          "yaxis": {
           "automargin": true,
           "gridcolor": "white",
           "linecolor": "white",
           "ticks": "",
           "title": {
            "standoff": 15
           },
           "zerolinecolor": "white",
           "zerolinewidth": 2
          }
         }
        }
       }
      }
     },
     "metadata": {},
     "output_type": "display_data"
    }
   ],
   "source": [
    "# Calculate the normalized sizes based on 'nr_followers'\n",
    "max_followers = df_combined['nr_followers'].max()\n",
    "min_followers = df_combined['nr_followers'].min()\n",
    "df_combined['normalized_size'] = ((df_combined['nr_followers'] - min_followers) / (max_followers - min_followers)) * 100\n",
    "\n",
    "# Apply the transformation to the 'hate_label' column\n",
    "df_combined['hate_label'] = df_combined['hate_label'].apply(transform_hate_label)\n",
    "df_combined['hate_label_name'] = df_combined['hate_label']\n",
    "df_combined['hate_label_name'] = df_combined['hate_label_name'].replace(0, \"Normal\")\n",
    "df_combined['hate_label_name'] = df_combined['hate_label_name'].replace(1, \"Offensive\")\n",
    "df_combined['hate_label_name'] = df_combined['hate_label_name'].replace(2, \"Hate\")\n",
    "\n",
    "fig = px.scatter_3d(df_combined, x='pca_1', y='pca_2', z='pca_3', color='hate_label',\n",
    "                    size='normalized_size', hover_name='name_lastname', color_continuous_scale='temps',\n",
    "                    range_color=[0, 2], size_max=50, custom_data=['hate_label', 'name_lastname', 'nr_followers', 'hate_label_name'])\n",
    "\n",
    "fig.update_layout(\n",
    "    scene=dict(\n",
    "        xaxis_title='PCA 1',\n",
    "        yaxis_title='PCA 2',\n",
    "        zaxis_title='PCA 3',\n",
    "        camera=dict(\n",
    "            eye=dict(x=1, y=-1.5, z=1)\n",
    "        )\n",
    "    ),\n",
    "    margin=dict(l=0, r=0, b=0, t=0)\n",
    ")\n",
    "\n",
    "fig.update_traces(opacity=1, marker=dict(symbol='circle'), hovertemplate='<b>%{hovertext}</b><br>Hate Label: %{customdata[3]}<br>Followers: %{customdata[2]:,.0f}')\n",
    "fig.update_layout(coloraxis_colorbar=dict(title='Hate Label'), coloraxis_colorbar_len=1, coloraxis_colorbar_thickness=15)\n",
    "\n",
    "fig.show()"
   ]
  },
  {
   "cell_type": "code",
   "execution_count": null,
   "metadata": {},
   "outputs": [],
   "source": []
  }
 ],
 "metadata": {
  "kernelspec": {
   "display_name": "lewagon",
   "language": "python",
   "name": "python3"
  },
  "language_info": {
   "codemirror_mode": {
    "name": "ipython",
    "version": 3
   },
   "file_extension": ".py",
   "mimetype": "text/x-python",
   "name": "python",
   "nbconvert_exporter": "python",
   "pygments_lexer": "ipython3",
   "version": "3.10.6"
  },
  "orig_nbformat": 4
 },
 "nbformat": 4,
 "nbformat_minor": 2
}
