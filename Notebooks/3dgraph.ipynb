{
 "cells": [
  {
   "cell_type": "code",
   "execution_count": 47,
   "metadata": {},
   "outputs": [],
   "source": [
    "import pandas as pd\n",
    "from google.cloud import bigquery\n",
    "import plotly.express as px\n",
    "import plotly.graph_objects as go\n",
    "\n",
    "client = bigquery.Client()\n",
    "def run_query(query):\n",
    "    query_job = client.query(query)\n",
    "    rows_raw = query_job.result()\n",
    "    # Convert to list of dicts. Required for st.cache_data to hash the return value.\n",
    "    rows = [dict(row) for row in rows_raw]\n",
    "    df = pd.DataFrame(rows)\n",
    "    return df\n",
    "\n",
    "query = f\"\"\"\n",
    "    SELECT * \n",
    "    FROM `crucial-strata-384013.HateScann_DataSet.UserName_HateScann`\n",
    "    LIMIT 1000\n",
    "\"\"\"\n",
    "df_queried = run_query(query)"
   ]
  },
  {
   "cell_type": "code",
   "execution_count": 50,
   "metadata": {},
   "outputs": [
    {
     "data": {
      "text/html": [
       "<div>\n",
       "<style scoped>\n",
       "    .dataframe tbody tr th:only-of-type {\n",
       "        vertical-align: middle;\n",
       "    }\n",
       "\n",
       "    .dataframe tbody tr th {\n",
       "        vertical-align: top;\n",
       "    }\n",
       "\n",
       "    .dataframe thead th {\n",
       "        text-align: right;\n",
       "    }\n",
       "</style>\n",
       "<table border=\"1\" class=\"dataframe\">\n",
       "  <thead>\n",
       "    <tr style=\"text-align: right;\">\n",
       "      <th></th>\n",
       "      <th>user_name</th>\n",
       "      <th>name_lastname</th>\n",
       "      <th>nr_followers</th>\n",
       "      <th>tweets_account</th>\n",
       "      <th>tweets_analysed</th>\n",
       "      <th>hate_label</th>\n",
       "      <th>Religion_class</th>\n",
       "      <th>Gender_class</th>\n",
       "      <th>Race_class</th>\n",
       "      <th>Politics_class</th>\n",
       "      <th>Sports_class</th>\n",
       "    </tr>\n",
       "  </thead>\n",
       "  <tbody>\n",
       "    <tr>\n",
       "      <th>0</th>\n",
       "      <td>jester2806</td>\n",
       "      <td>Jester</td>\n",
       "      <td>66</td>\n",
       "      <td>34665</td>\n",
       "      <td>30</td>\n",
       "      <td>0.200000</td>\n",
       "      <td>0.05</td>\n",
       "      <td>0.13</td>\n",
       "      <td>0.15</td>\n",
       "      <td>0.48</td>\n",
       "      <td>0.19</td>\n",
       "    </tr>\n",
       "    <tr>\n",
       "      <th>1</th>\n",
       "      <td>TomiLahren</td>\n",
       "      <td>Tomi Lahren</td>\n",
       "      <td>2428640</td>\n",
       "      <td>26185</td>\n",
       "      <td>30</td>\n",
       "      <td>1.166667</td>\n",
       "      <td>0.07</td>\n",
       "      <td>0.19</td>\n",
       "      <td>0.03</td>\n",
       "      <td>0.65</td>\n",
       "      <td>0.06</td>\n",
       "    </tr>\n",
       "    <tr>\n",
       "      <th>2</th>\n",
       "      <td>ittybittybabyy1</td>\n",
       "      <td>Luh Baby</td>\n",
       "      <td>78534</td>\n",
       "      <td>18521</td>\n",
       "      <td>30</td>\n",
       "      <td>1.666667</td>\n",
       "      <td>0.07</td>\n",
       "      <td>0.18</td>\n",
       "      <td>0.27</td>\n",
       "      <td>0.43</td>\n",
       "      <td>0.04</td>\n",
       "    </tr>\n",
       "    <tr>\n",
       "      <th>3</th>\n",
       "      <td>SargsianNikita</td>\n",
       "      <td>Niksarg</td>\n",
       "      <td>14</td>\n",
       "      <td>593</td>\n",
       "      <td>30</td>\n",
       "      <td>0.200000</td>\n",
       "      <td>0.04</td>\n",
       "      <td>0.07</td>\n",
       "      <td>0.16</td>\n",
       "      <td>0.58</td>\n",
       "      <td>0.15</td>\n",
       "    </tr>\n",
       "    <tr>\n",
       "      <th>4</th>\n",
       "      <td>YeonmiParkNK</td>\n",
       "      <td>Yeonmi Park</td>\n",
       "      <td>172902</td>\n",
       "      <td>3387</td>\n",
       "      <td>30</td>\n",
       "      <td>1.074074</td>\n",
       "      <td>0.20</td>\n",
       "      <td>0.30</td>\n",
       "      <td>0.04</td>\n",
       "      <td>0.44</td>\n",
       "      <td>0.03</td>\n",
       "    </tr>\n",
       "    <tr>\n",
       "      <th>5</th>\n",
       "      <td>dillondanis</td>\n",
       "      <td>Dillon Danis</td>\n",
       "      <td>336298</td>\n",
       "      <td>920</td>\n",
       "      <td>30</td>\n",
       "      <td>1.560000</td>\n",
       "      <td>0.11</td>\n",
       "      <td>0.33</td>\n",
       "      <td>0.08</td>\n",
       "      <td>0.36</td>\n",
       "      <td>0.13</td>\n",
       "    </tr>\n",
       "    <tr>\n",
       "      <th>6</th>\n",
       "      <td>gabechoiluon</td>\n",
       "      <td>Gabe</td>\n",
       "      <td>9</td>\n",
       "      <td>5189</td>\n",
       "      <td>30</td>\n",
       "      <td>0.933333</td>\n",
       "      <td>0.08</td>\n",
       "      <td>0.28</td>\n",
       "      <td>0.10</td>\n",
       "      <td>0.39</td>\n",
       "      <td>0.15</td>\n",
       "    </tr>\n",
       "    <tr>\n",
       "      <th>7</th>\n",
       "      <td>moonzyNFT</td>\n",
       "      <td>Moonzy</td>\n",
       "      <td>212</td>\n",
       "      <td>324</td>\n",
       "      <td>30</td>\n",
       "      <td>0.133333</td>\n",
       "      <td>0.06</td>\n",
       "      <td>0.16</td>\n",
       "      <td>0.10</td>\n",
       "      <td>0.49</td>\n",
       "      <td>0.18</td>\n",
       "    </tr>\n",
       "    <tr>\n",
       "      <th>8</th>\n",
       "      <td>ReachTWR</td>\n",
       "      <td>THE WAR ROOM</td>\n",
       "      <td>218313</td>\n",
       "      <td>1989</td>\n",
       "      <td>30</td>\n",
       "      <td>1.360000</td>\n",
       "      <td>0.24</td>\n",
       "      <td>0.31</td>\n",
       "      <td>0.06</td>\n",
       "      <td>0.16</td>\n",
       "      <td>0.23</td>\n",
       "    </tr>\n",
       "    <tr>\n",
       "      <th>9</th>\n",
       "      <td>robbiewilliams</td>\n",
       "      <td>Robbie Williams</td>\n",
       "      <td>2424757</td>\n",
       "      <td>5680</td>\n",
       "      <td>30</td>\n",
       "      <td>0.689655</td>\n",
       "      <td>0.20</td>\n",
       "      <td>0.35</td>\n",
       "      <td>0.10</td>\n",
       "      <td>0.17</td>\n",
       "      <td>0.18</td>\n",
       "    </tr>\n",
       "    <tr>\n",
       "      <th>10</th>\n",
       "      <td>costareports</td>\n",
       "      <td>Robert Costa</td>\n",
       "      <td>740091</td>\n",
       "      <td>50748</td>\n",
       "      <td>30</td>\n",
       "      <td>0.266667</td>\n",
       "      <td>0.04</td>\n",
       "      <td>0.07</td>\n",
       "      <td>0.03</td>\n",
       "      <td>0.80</td>\n",
       "      <td>0.06</td>\n",
       "    </tr>\n",
       "    <tr>\n",
       "      <th>11</th>\n",
       "      <td>Cristiano</td>\n",
       "      <td>Cristiano Ronaldo</td>\n",
       "      <td>108713680</td>\n",
       "      <td>3928</td>\n",
       "      <td>30</td>\n",
       "      <td>0.600000</td>\n",
       "      <td>0.09</td>\n",
       "      <td>0.23</td>\n",
       "      <td>0.07</td>\n",
       "      <td>0.34</td>\n",
       "      <td>0.26</td>\n",
       "    </tr>\n",
       "    <tr>\n",
       "      <th>12</th>\n",
       "      <td>katyperry</td>\n",
       "      <td>KATY PERRY</td>\n",
       "      <td>107670809</td>\n",
       "      <td>11927</td>\n",
       "      <td>30</td>\n",
       "      <td>1.466667</td>\n",
       "      <td>0.09</td>\n",
       "      <td>0.50</td>\n",
       "      <td>0.08</td>\n",
       "      <td>0.27</td>\n",
       "      <td>0.06</td>\n",
       "    </tr>\n",
       "    <tr>\n",
       "      <th>13</th>\n",
       "      <td>CeeLoGreen</td>\n",
       "      <td>CeeLo Green</td>\n",
       "      <td>1435566</td>\n",
       "      <td>9522</td>\n",
       "      <td>30</td>\n",
       "      <td>1.200000</td>\n",
       "      <td>0.09</td>\n",
       "      <td>0.43</td>\n",
       "      <td>0.10</td>\n",
       "      <td>0.27</td>\n",
       "      <td>0.10</td>\n",
       "    </tr>\n",
       "  </tbody>\n",
       "</table>\n",
       "</div>"
      ],
      "text/plain": [
       "          user_name      name_lastname  nr_followers  tweets_account  \\\n",
       "0        jester2806             Jester            66           34665   \n",
       "1        TomiLahren        Tomi Lahren       2428640           26185   \n",
       "2   ittybittybabyy1           Luh Baby         78534           18521   \n",
       "3    SargsianNikita            Niksarg            14             593   \n",
       "4      YeonmiParkNK        Yeonmi Park        172902            3387   \n",
       "5       dillondanis       Dillon Danis        336298             920   \n",
       "6      gabechoiluon               Gabe             9            5189   \n",
       "7         moonzyNFT             Moonzy           212             324   \n",
       "8          ReachTWR       THE WAR ROOM        218313            1989   \n",
       "9    robbiewilliams    Robbie Williams       2424757            5680   \n",
       "10     costareports       Robert Costa        740091           50748   \n",
       "11        Cristiano  Cristiano Ronaldo     108713680            3928   \n",
       "12        katyperry         KATY PERRY     107670809           11927   \n",
       "13       CeeLoGreen        CeeLo Green       1435566            9522   \n",
       "\n",
       "    tweets_analysed  hate_label  Religion_class  Gender_class  Race_class  \\\n",
       "0                30    0.200000            0.05          0.13        0.15   \n",
       "1                30    1.166667            0.07          0.19        0.03   \n",
       "2                30    1.666667            0.07          0.18        0.27   \n",
       "3                30    0.200000            0.04          0.07        0.16   \n",
       "4                30    1.074074            0.20          0.30        0.04   \n",
       "5                30    1.560000            0.11          0.33        0.08   \n",
       "6                30    0.933333            0.08          0.28        0.10   \n",
       "7                30    0.133333            0.06          0.16        0.10   \n",
       "8                30    1.360000            0.24          0.31        0.06   \n",
       "9                30    0.689655            0.20          0.35        0.10   \n",
       "10               30    0.266667            0.04          0.07        0.03   \n",
       "11               30    0.600000            0.09          0.23        0.07   \n",
       "12               30    1.466667            0.09          0.50        0.08   \n",
       "13               30    1.200000            0.09          0.43        0.10   \n",
       "\n",
       "    Politics_class  Sports_class  \n",
       "0             0.48          0.19  \n",
       "1             0.65          0.06  \n",
       "2             0.43          0.04  \n",
       "3             0.58          0.15  \n",
       "4             0.44          0.03  \n",
       "5             0.36          0.13  \n",
       "6             0.39          0.15  \n",
       "7             0.49          0.18  \n",
       "8             0.16          0.23  \n",
       "9             0.17          0.18  \n",
       "10            0.80          0.06  \n",
       "11            0.34          0.26  \n",
       "12            0.27          0.06  \n",
       "13            0.27          0.10  "
      ]
     },
     "execution_count": 50,
     "metadata": {},
     "output_type": "execute_result"
    }
   ],
   "source": [
    "df_queried.head(14)"
   ]
  },
  {
   "cell_type": "code",
   "execution_count": 36,
   "metadata": {},
   "outputs": [],
   "source": [
    "from sklearn.decomposition import PCA\n",
    "\n",
    "pca = PCA(n_components=3)\n",
    "\n",
    "pca_df = pca.fit_transform(df_queried[['Religion_class', 'Gender_class', 'Race_class', 'Politics_class', 'Sports_class']])"
   ]
  },
  {
   "cell_type": "code",
   "execution_count": 37,
   "metadata": {},
   "outputs": [],
   "source": [
    "pca_df = pd.DataFrame(pca_df, columns=['pca_1', 'pca_2', 'pca_3'])\n",
    "df_combined = pd.concat([df_queried, pca_df], axis=1)"
   ]
  },
  {
   "cell_type": "code",
   "execution_count": 38,
   "metadata": {},
   "outputs": [],
   "source": [
    "def transform_hate_label(scale):\n",
    "    if 0 <= scale < 0.85:\n",
    "        return 0\n",
    "    elif 0.85 <= scale < 1.5:\n",
    "        return 1\n",
    "    elif scale >= 1.5:\n",
    "        return 2"
   ]
  },
  {
   "cell_type": "code",
   "execution_count": 39,
   "metadata": {},
   "outputs": [],
   "source": [
    "lala = transform_hate_label(1.76)"
   ]
  },
  {
   "cell_type": "code",
   "execution_count": 40,
   "metadata": {},
   "outputs": [
    {
     "data": {
      "text/plain": [
       "int"
      ]
     },
     "execution_count": 40,
     "metadata": {},
     "output_type": "execute_result"
    }
   ],
   "source": [
    "type(lala)"
   ]
  },
  {
   "cell_type": "code",
   "execution_count": 51,
   "metadata": {},
   "outputs": [
    {
     "data": {
      "application/vnd.plotly.v1+json": {
       "config": {
        "plotlyServerURL": "https://plot.ly"
       },
       "data": [
        {
         "customdata": [
          [
           0,
           "Jester",
           66,
           "Normal"
          ],
          [
           1,
           "Tomi Lahren",
           2428640,
           "Offensive"
          ],
          [
           2,
           "Luh Baby",
           78534,
           "Hate"
          ],
          [
           0,
           "Niksarg",
           14,
           "Normal"
          ],
          [
           1,
           "Yeonmi Park",
           172902,
           "Offensive"
          ],
          [
           2,
           "Dillon Danis",
           336298,
           "Hate"
          ],
          [
           1,
           "Gabe",
           9,
           "Offensive"
          ],
          [
           0,
           "Moonzy",
           212,
           "Normal"
          ],
          [
           1,
           "THE WAR ROOM",
           218313,
           "Offensive"
          ],
          [
           0,
           "Robbie Williams",
           2424757,
           "Normal"
          ],
          [
           0,
           "Robert Costa",
           740091,
           "Normal"
          ],
          [
           0,
           "Cristiano Ronaldo",
           108713680,
           "Normal"
          ],
          [
           1,
           "KATY PERRY",
           107670809,
           "Offensive"
          ],
          [
           1,
           "CeeLo Green",
           1435566,
           "Offensive"
          ],
          [
           0,
           "Oprah Winfrey",
           42405650,
           "Normal"
          ],
          [
           2,
           "Chief Hélà🤞🏾A11Even Tribe",
           4749614,
           "Hate"
          ],
          [
           1,
           "Jimmy Fallon",
           50502994,
           "Offensive"
          ],
          [
           1,
           "Rihanna",
           108252917,
           "Offensive"
          ],
          [
           2,
           "Successful Ratios",
           486964,
           "Hate"
          ],
          [
           1,
           "Andrew Tate",
           6901428,
           "Offensive"
          ],
          [
           2,
           "Top Girl Keiko, J.D.",
           61630,
           "Hate"
          ],
          [
           1,
           "Justin Bieber",
           112393156,
           "Offensive"
          ],
          [
           2,
           "amanda bynes",
           2420040,
           "Hate"
          ],
          [
           0,
           "Hillary Clinton",
           31414077,
           "Normal"
          ],
          [
           1,
           "James Gunn",
           1690077,
           "Offensive"
          ],
          [
           1,
           "Dalai Lama",
           18871360,
           "Offensive"
          ],
          [
           1,
           "Amit Shah",
           33248238,
           "Offensive"
          ],
          [
           1,
           "Matt Walsh",
           2223564,
           "Offensive"
          ],
          [
           1,
           "Donald J. Trump",
           86811444,
           "Offensive"
          ],
          [
           0,
           "Kim Kardashian",
           75052723,
           "Normal"
          ],
          [
           0,
           "Chris Brown",
           31812017,
           "Normal"
          ],
          [
           0,
           "Narendra Modi",
           89301981,
           "Normal"
          ],
          [
           0,
           "Joe Biden",
           37256012,
           "Normal"
          ],
          [
           1,
           "King Charles",
           19895,
           "Offensive"
          ],
          [
           0,
           "50cent",
           12685851,
           "Normal"
          ],
          [
           0,
           "Roseanne Barr",
           785519,
           "Normal"
          ],
          [
           1,
           "Young Kings",
           10406,
           "Offensive"
          ],
          [
           0,
           "Pope Francis",
           18789322,
           "Normal"
          ],
          [
           0,
           "Barack Obama",
           132334803,
           "Normal"
          ]
         ],
         "hovertemplate": "<b>%{hovertext}</b><br>Hate Label: %{customdata[3]}<br>Followers: %{customdata[2]:,.0f}",
         "hovertext": [
          "Jester",
          "Tomi Lahren",
          "Luh Baby",
          "Niksarg",
          "Yeonmi Park",
          "Dillon Danis",
          "Gabe",
          "Moonzy",
          "THE WAR ROOM",
          "Robbie Williams",
          "Robert Costa",
          "Cristiano Ronaldo",
          "KATY PERRY",
          "CeeLo Green",
          "Oprah Winfrey",
          "Chief Hélà🤞🏾A11Even Tribe",
          "Jimmy Fallon",
          "Rihanna",
          "Successful Ratios",
          "Andrew Tate",
          "Top Girl Keiko, J.D.",
          "Justin Bieber",
          "amanda bynes",
          "Hillary Clinton",
          "James Gunn",
          "Dalai Lama",
          "Amit Shah",
          "Matt Walsh",
          "Donald J. Trump",
          "Kim Kardashian",
          "Chris Brown",
          "Narendra Modi",
          "Joe Biden",
          "King Charles",
          "50cent",
          "Roseanne Barr",
          "Young Kings",
          "Pope Francis",
          "Barack Obama"
         ],
         "legendgroup": "",
         "marker": {
          "color": [
           0,
           1,
           2,
           0,
           1,
           2,
           1,
           0,
           1,
           0,
           0,
           0,
           1,
           1,
           0,
           2,
           1,
           1,
           2,
           1,
           2,
           1,
           2,
           0,
           1,
           1,
           1,
           1,
           1,
           0,
           0,
           0,
           0,
           1,
           0,
           0,
           1,
           0,
           0
          ],
          "coloraxis": "coloraxis",
          "size": [
           0.000043072572433218126,
           1.8352172747554205,
           0.05933813597049918,
           0.0000037782958274752745,
           0.13064818009993653,
           0.25411986510516654,
           0,
           0.00015339881059549615,
           0.1649634184642325,
           1.8322830502158036,
           0.5592497465179113,
           82.15048190576395,
           81.36242687618495,
           1.0847918046405847,
           32.044211290342886,
           3.58908255073114,
           38.163043500109275,
           81.80230212169295,
           0.36797200893364446,
           5.215120522271716,
           0.04656447343697078,
           84.93091166938304,
           1.8287186059321632,
           23.738328409684907,
           1.2771153745098967,
           14.260309348424268,
           25.124328980328485,
           1.6802497157323566,
           65.5998565275282,
           56.71427122937902,
           24.039035418002012,
           67.48185363858276,
           28.15284013666126,
           0.015027038165034663,
           9.58617277932212,
           0.5935778310880206,
           0.007856588343652085,
           14.198316581805386,
           100
          ],
          "sizemode": "area",
          "sizeref": 0.04,
          "symbol": "circle"
         },
         "mode": "markers",
         "name": "",
         "opacity": 1,
         "scene": "scene",
         "showlegend": false,
         "type": "scatter3d",
         "x": [
          0.16745069195888712,
          0.29944506083138683,
          0.11561004189426342,
          0.28719307749415995,
          0.04487789230940408,
          -0.03011517146839092,
          0.02203479439993022,
          0.16222832775721213,
          -0.23382061097022494,
          -0.2283430581613634,
          0.48840102233388166,
          -0.014144743167321361,
          -0.1699669418895248,
          -0.1437748458397082,
          -0.1416070999090436,
          -0.19351463019725057,
          0.015848139431336183,
          -0.24092562702241477,
          -0.06537624072788001,
          -0.0906593460892323,
          -0.02941976635227411,
          -0.07167927334831764,
          -0.10191206682171179,
          0.12378203862017191,
          0.018710763567036274,
          0.053742348706125716,
          -0.047909790119442276,
          -0.043435172347389334,
          0.436612296477301,
          0.02969009766983597,
          0.04914145597601633,
          -0.16971387271786834,
          0.3211297795583616,
          -0.15111441237716272,
          -0.17943938974398224,
          -0.13806823531448104,
          -0.08127957431262312,
          -0.1861744639783801,
          0.11649650389067616
         ],
         "y": [
          0.0550942136005229,
          -0.024438305821193464,
          0.013073068893524562,
          0.06644984696309374,
          0.014691790415330495,
          -0.03534631591839989,
          -0.021893269744904128,
          0.03772878411285139,
          0.11731226592473872,
          0.05131145853455799,
          0.014722630865781593,
          0.04855727546591949,
          -0.165798089069841,
          -0.10961579991579218,
          0.0038136217960510546,
          0.009950275297615031,
          -0.03154775208229551,
          -0.1317259375686419,
          -0.0871177572523309,
          0.05677188431359069,
          0.016584281717671227,
          0.037172141314259485,
          -0.007042061312790016,
          -0.04787864148257952,
          -0.10630739803253356,
          0.10409118877201731,
          -0.06975672242883939,
          -0.01736255470489742,
          -0.0008188130598188615,
          -0.056638907389814204,
          -0.09379005378211411,
          0.1233408070089332,
          0.01004951070853124,
          -0.08791282209417876,
          -0.042909976519714815,
          -0.07619482239913157,
          0.00937859279237467,
          0.41498881880848215,
          0.009013543273966395
         ],
         "z": [
          0.13207720413307908,
          -0.059102615598953766,
          0.055534564186422934,
          0.112430364321718,
          -0.1388706224845149,
          -0.001960708786029251,
          0.04396591642653034,
          0.0917817624794367,
          0.033182370818243774,
          0.020824727473468977,
          -0.03592157192582705,
          0.12750544609898373,
          -0.07203721169357927,
          -0.017026928020856025,
          0.13009289582613023,
          -0.00918330839213494,
          -0.02068050957982092,
          -0.03202664971200036,
          -0.05661130271997112,
          -0.007962297857028532,
          -0.08519573962175883,
          -0.045258510388705285,
          0.1831574438629649,
          -0.036834103738953676,
          -0.05334548919711809,
          -0.03846389273521617,
          -0.0786616154573467,
          -0.0193339773233532,
          -0.0712542110681181,
          0.0334284574152346,
          -0.015245391148373484,
          0.06711431886595409,
          -0.02351903233073823,
          0.057618606499048756,
          -0.010523005443759786,
          -0.06691805316074739,
          0.02146217490411746,
          -0.15714852252788958,
          0.04290901760146278
         ]
        }
       ],
       "layout": {
        "coloraxis": {
         "cmax": 2,
         "cmin": 0,
         "colorbar": {
          "len": 1,
          "thickness": 15,
          "title": {
           "text": "Hate Label"
          }
         },
         "colorscale": [
          [
           0,
           "rgb(0, 147, 146)"
          ],
          [
           0.16666666666666666,
           "rgb(57, 177, 133)"
          ],
          [
           0.3333333333333333,
           "rgb(156, 203, 134)"
          ],
          [
           0.5,
           "rgb(233, 226, 156)"
          ],
          [
           0.6666666666666666,
           "rgb(238, 180, 121)"
          ],
          [
           0.8333333333333334,
           "rgb(232, 132, 113)"
          ],
          [
           1,
           "rgb(207, 89, 126)"
          ]
         ]
        },
        "legend": {
         "itemsizing": "constant",
         "tracegroupgap": 0
        },
        "margin": {
         "b": 0,
         "l": 0,
         "r": 0,
         "t": 0
        },
        "scene": {
         "camera": {
          "eye": {
           "x": 1,
           "y": -1.5,
           "z": 1
          }
         },
         "domain": {
          "x": [
           0,
           1
          ],
          "y": [
           0,
           1
          ]
         },
         "xaxis": {
          "title": {
           "text": "PCA 1"
          }
         },
         "yaxis": {
          "title": {
           "text": "PCA 2"
          }
         },
         "zaxis": {
          "title": {
           "text": "PCA 3"
          }
         }
        },
        "template": {
         "data": {
          "bar": [
           {
            "error_x": {
             "color": "#2a3f5f"
            },
            "error_y": {
             "color": "#2a3f5f"
            },
            "marker": {
             "line": {
              "color": "#E5ECF6",
              "width": 0.5
             },
             "pattern": {
              "fillmode": "overlay",
              "size": 10,
              "solidity": 0.2
             }
            },
            "type": "bar"
           }
          ],
          "barpolar": [
           {
            "marker": {
             "line": {
              "color": "#E5ECF6",
              "width": 0.5
             },
             "pattern": {
              "fillmode": "overlay",
              "size": 10,
              "solidity": 0.2
             }
            },
            "type": "barpolar"
           }
          ],
          "carpet": [
           {
            "aaxis": {
             "endlinecolor": "#2a3f5f",
             "gridcolor": "white",
             "linecolor": "white",
             "minorgridcolor": "white",
             "startlinecolor": "#2a3f5f"
            },
            "baxis": {
             "endlinecolor": "#2a3f5f",
             "gridcolor": "white",
             "linecolor": "white",
             "minorgridcolor": "white",
             "startlinecolor": "#2a3f5f"
            },
            "type": "carpet"
           }
          ],
          "choropleth": [
           {
            "colorbar": {
             "outlinewidth": 0,
             "ticks": ""
            },
            "type": "choropleth"
           }
          ],
          "contour": [
           {
            "colorbar": {
             "outlinewidth": 0,
             "ticks": ""
            },
            "colorscale": [
             [
              0,
              "#0d0887"
             ],
             [
              0.1111111111111111,
              "#46039f"
             ],
             [
              0.2222222222222222,
              "#7201a8"
             ],
             [
              0.3333333333333333,
              "#9c179e"
             ],
             [
              0.4444444444444444,
              "#bd3786"
             ],
             [
              0.5555555555555556,
              "#d8576b"
             ],
             [
              0.6666666666666666,
              "#ed7953"
             ],
             [
              0.7777777777777778,
              "#fb9f3a"
             ],
             [
              0.8888888888888888,
              "#fdca26"
             ],
             [
              1,
              "#f0f921"
             ]
            ],
            "type": "contour"
           }
          ],
          "contourcarpet": [
           {
            "colorbar": {
             "outlinewidth": 0,
             "ticks": ""
            },
            "type": "contourcarpet"
           }
          ],
          "heatmap": [
           {
            "colorbar": {
             "outlinewidth": 0,
             "ticks": ""
            },
            "colorscale": [
             [
              0,
              "#0d0887"
             ],
             [
              0.1111111111111111,
              "#46039f"
             ],
             [
              0.2222222222222222,
              "#7201a8"
             ],
             [
              0.3333333333333333,
              "#9c179e"
             ],
             [
              0.4444444444444444,
              "#bd3786"
             ],
             [
              0.5555555555555556,
              "#d8576b"
             ],
             [
              0.6666666666666666,
              "#ed7953"
             ],
             [
              0.7777777777777778,
              "#fb9f3a"
             ],
             [
              0.8888888888888888,
              "#fdca26"
             ],
             [
              1,
              "#f0f921"
             ]
            ],
            "type": "heatmap"
           }
          ],
          "heatmapgl": [
           {
            "colorbar": {
             "outlinewidth": 0,
             "ticks": ""
            },
            "colorscale": [
             [
              0,
              "#0d0887"
             ],
             [
              0.1111111111111111,
              "#46039f"
             ],
             [
              0.2222222222222222,
              "#7201a8"
             ],
             [
              0.3333333333333333,
              "#9c179e"
             ],
             [
              0.4444444444444444,
              "#bd3786"
             ],
             [
              0.5555555555555556,
              "#d8576b"
             ],
             [
              0.6666666666666666,
              "#ed7953"
             ],
             [
              0.7777777777777778,
              "#fb9f3a"
             ],
             [
              0.8888888888888888,
              "#fdca26"
             ],
             [
              1,
              "#f0f921"
             ]
            ],
            "type": "heatmapgl"
           }
          ],
          "histogram": [
           {
            "marker": {
             "pattern": {
              "fillmode": "overlay",
              "size": 10,
              "solidity": 0.2
             }
            },
            "type": "histogram"
           }
          ],
          "histogram2d": [
           {
            "colorbar": {
             "outlinewidth": 0,
             "ticks": ""
            },
            "colorscale": [
             [
              0,
              "#0d0887"
             ],
             [
              0.1111111111111111,
              "#46039f"
             ],
             [
              0.2222222222222222,
              "#7201a8"
             ],
             [
              0.3333333333333333,
              "#9c179e"
             ],
             [
              0.4444444444444444,
              "#bd3786"
             ],
             [
              0.5555555555555556,
              "#d8576b"
             ],
             [
              0.6666666666666666,
              "#ed7953"
             ],
             [
              0.7777777777777778,
              "#fb9f3a"
             ],
             [
              0.8888888888888888,
              "#fdca26"
             ],
             [
              1,
              "#f0f921"
             ]
            ],
            "type": "histogram2d"
           }
          ],
          "histogram2dcontour": [
           {
            "colorbar": {
             "outlinewidth": 0,
             "ticks": ""
            },
            "colorscale": [
             [
              0,
              "#0d0887"
             ],
             [
              0.1111111111111111,
              "#46039f"
             ],
             [
              0.2222222222222222,
              "#7201a8"
             ],
             [
              0.3333333333333333,
              "#9c179e"
             ],
             [
              0.4444444444444444,
              "#bd3786"
             ],
             [
              0.5555555555555556,
              "#d8576b"
             ],
             [
              0.6666666666666666,
              "#ed7953"
             ],
             [
              0.7777777777777778,
              "#fb9f3a"
             ],
             [
              0.8888888888888888,
              "#fdca26"
             ],
             [
              1,
              "#f0f921"
             ]
            ],
            "type": "histogram2dcontour"
           }
          ],
          "mesh3d": [
           {
            "colorbar": {
             "outlinewidth": 0,
             "ticks": ""
            },
            "type": "mesh3d"
           }
          ],
          "parcoords": [
           {
            "line": {
             "colorbar": {
              "outlinewidth": 0,
              "ticks": ""
             }
            },
            "type": "parcoords"
           }
          ],
          "pie": [
           {
            "automargin": true,
            "type": "pie"
           }
          ],
          "scatter": [
           {
            "fillpattern": {
             "fillmode": "overlay",
             "size": 10,
             "solidity": 0.2
            },
            "type": "scatter"
           }
          ],
          "scatter3d": [
           {
            "line": {
             "colorbar": {
              "outlinewidth": 0,
              "ticks": ""
             }
            },
            "marker": {
             "colorbar": {
              "outlinewidth": 0,
              "ticks": ""
             }
            },
            "type": "scatter3d"
           }
          ],
          "scattercarpet": [
           {
            "marker": {
             "colorbar": {
              "outlinewidth": 0,
              "ticks": ""
             }
            },
            "type": "scattercarpet"
           }
          ],
          "scattergeo": [
           {
            "marker": {
             "colorbar": {
              "outlinewidth": 0,
              "ticks": ""
             }
            },
            "type": "scattergeo"
           }
          ],
          "scattergl": [
           {
            "marker": {
             "colorbar": {
              "outlinewidth": 0,
              "ticks": ""
             }
            },
            "type": "scattergl"
           }
          ],
          "scattermapbox": [
           {
            "marker": {
             "colorbar": {
              "outlinewidth": 0,
              "ticks": ""
             }
            },
            "type": "scattermapbox"
           }
          ],
          "scatterpolar": [
           {
            "marker": {
             "colorbar": {
              "outlinewidth": 0,
              "ticks": ""
             }
            },
            "type": "scatterpolar"
           }
          ],
          "scatterpolargl": [
           {
            "marker": {
             "colorbar": {
              "outlinewidth": 0,
              "ticks": ""
             }
            },
            "type": "scatterpolargl"
           }
          ],
          "scatterternary": [
           {
            "marker": {
             "colorbar": {
              "outlinewidth": 0,
              "ticks": ""
             }
            },
            "type": "scatterternary"
           }
          ],
          "surface": [
           {
            "colorbar": {
             "outlinewidth": 0,
             "ticks": ""
            },
            "colorscale": [
             [
              0,
              "#0d0887"
             ],
             [
              0.1111111111111111,
              "#46039f"
             ],
             [
              0.2222222222222222,
              "#7201a8"
             ],
             [
              0.3333333333333333,
              "#9c179e"
             ],
             [
              0.4444444444444444,
              "#bd3786"
             ],
             [
              0.5555555555555556,
              "#d8576b"
             ],
             [
              0.6666666666666666,
              "#ed7953"
             ],
             [
              0.7777777777777778,
              "#fb9f3a"
             ],
             [
              0.8888888888888888,
              "#fdca26"
             ],
             [
              1,
              "#f0f921"
             ]
            ],
            "type": "surface"
           }
          ],
          "table": [
           {
            "cells": {
             "fill": {
              "color": "#EBF0F8"
             },
             "line": {
              "color": "white"
             }
            },
            "header": {
             "fill": {
              "color": "#C8D4E3"
             },
             "line": {
              "color": "white"
             }
            },
            "type": "table"
           }
          ]
         },
         "layout": {
          "annotationdefaults": {
           "arrowcolor": "#2a3f5f",
           "arrowhead": 0,
           "arrowwidth": 1
          },
          "autotypenumbers": "strict",
          "coloraxis": {
           "colorbar": {
            "outlinewidth": 0,
            "ticks": ""
           }
          },
          "colorscale": {
           "diverging": [
            [
             0,
             "#8e0152"
            ],
            [
             0.1,
             "#c51b7d"
            ],
            [
             0.2,
             "#de77ae"
            ],
            [
             0.3,
             "#f1b6da"
            ],
            [
             0.4,
             "#fde0ef"
            ],
            [
             0.5,
             "#f7f7f7"
            ],
            [
             0.6,
             "#e6f5d0"
            ],
            [
             0.7,
             "#b8e186"
            ],
            [
             0.8,
             "#7fbc41"
            ],
            [
             0.9,
             "#4d9221"
            ],
            [
             1,
             "#276419"
            ]
           ],
           "sequential": [
            [
             0,
             "#0d0887"
            ],
            [
             0.1111111111111111,
             "#46039f"
            ],
            [
             0.2222222222222222,
             "#7201a8"
            ],
            [
             0.3333333333333333,
             "#9c179e"
            ],
            [
             0.4444444444444444,
             "#bd3786"
            ],
            [
             0.5555555555555556,
             "#d8576b"
            ],
            [
             0.6666666666666666,
             "#ed7953"
            ],
            [
             0.7777777777777778,
             "#fb9f3a"
            ],
            [
             0.8888888888888888,
             "#fdca26"
            ],
            [
             1,
             "#f0f921"
            ]
           ],
           "sequentialminus": [
            [
             0,
             "#0d0887"
            ],
            [
             0.1111111111111111,
             "#46039f"
            ],
            [
             0.2222222222222222,
             "#7201a8"
            ],
            [
             0.3333333333333333,
             "#9c179e"
            ],
            [
             0.4444444444444444,
             "#bd3786"
            ],
            [
             0.5555555555555556,
             "#d8576b"
            ],
            [
             0.6666666666666666,
             "#ed7953"
            ],
            [
             0.7777777777777778,
             "#fb9f3a"
            ],
            [
             0.8888888888888888,
             "#fdca26"
            ],
            [
             1,
             "#f0f921"
            ]
           ]
          },
          "colorway": [
           "#636efa",
           "#EF553B",
           "#00cc96",
           "#ab63fa",
           "#FFA15A",
           "#19d3f3",
           "#FF6692",
           "#B6E880",
           "#FF97FF",
           "#FECB52"
          ],
          "font": {
           "color": "#2a3f5f"
          },
          "geo": {
           "bgcolor": "white",
           "lakecolor": "white",
           "landcolor": "#E5ECF6",
           "showlakes": true,
           "showland": true,
           "subunitcolor": "white"
          },
          "hoverlabel": {
           "align": "left"
          },
          "hovermode": "closest",
          "mapbox": {
           "style": "light"
          },
          "paper_bgcolor": "white",
          "plot_bgcolor": "#E5ECF6",
          "polar": {
           "angularaxis": {
            "gridcolor": "white",
            "linecolor": "white",
            "ticks": ""
           },
           "bgcolor": "#E5ECF6",
           "radialaxis": {
            "gridcolor": "white",
            "linecolor": "white",
            "ticks": ""
           }
          },
          "scene": {
           "xaxis": {
            "backgroundcolor": "#E5ECF6",
            "gridcolor": "white",
            "gridwidth": 2,
            "linecolor": "white",
            "showbackground": true,
            "ticks": "",
            "zerolinecolor": "white"
           },
           "yaxis": {
            "backgroundcolor": "#E5ECF6",
            "gridcolor": "white",
            "gridwidth": 2,
            "linecolor": "white",
            "showbackground": true,
            "ticks": "",
            "zerolinecolor": "white"
           },
           "zaxis": {
            "backgroundcolor": "#E5ECF6",
            "gridcolor": "white",
            "gridwidth": 2,
            "linecolor": "white",
            "showbackground": true,
            "ticks": "",
            "zerolinecolor": "white"
           }
          },
          "shapedefaults": {
           "line": {
            "color": "#2a3f5f"
           }
          },
          "ternary": {
           "aaxis": {
            "gridcolor": "white",
            "linecolor": "white",
            "ticks": ""
           },
           "baxis": {
            "gridcolor": "white",
            "linecolor": "white",
            "ticks": ""
           },
           "bgcolor": "#E5ECF6",
           "caxis": {
            "gridcolor": "white",
            "linecolor": "white",
            "ticks": ""
           }
          },
          "title": {
           "x": 0.05
          },
          "xaxis": {
           "automargin": true,
           "gridcolor": "white",
           "linecolor": "white",
           "ticks": "",
           "title": {
            "standoff": 15
           },
           "zerolinecolor": "white",
           "zerolinewidth": 2
          },
          "yaxis": {
           "automargin": true,
           "gridcolor": "white",
           "linecolor": "white",
           "ticks": "",
           "title": {
            "standoff": 15
           },
           "zerolinecolor": "white",
           "zerolinewidth": 2
          }
         }
        }
       }
      }
     },
     "metadata": {},
     "output_type": "display_data"
    }
   ],
   "source": [
    "# Calculate the normalized sizes based on 'nr_followers'\n",
    "max_followers = df_combined['nr_followers'].max()\n",
    "min_followers = df_combined['nr_followers'].min()\n",
    "df_combined['normalized_size'] = ((df_combined['nr_followers'] - min_followers) / (max_followers - min_followers)) * 100\n",
    "\n",
    "# Apply the transformation to the 'hate_label' column\n",
    "df_combined['hate_label'] = df_combined['hate_label'].apply(transform_hate_label)\n",
    "df_combined['hate_label_name'] = df_combined['hate_label']\n",
    "df_combined['hate_label_name'] = df_combined['hate_label_name'].replace(0, \"Normal\")\n",
    "df_combined['hate_label_name'] = df_combined['hate_label_name'].replace(1, \"Offensive\")\n",
    "df_combined['hate_label_name'] = df_combined['hate_label_name'].replace(2, \"Hate\")\n",
    "\n",
    "fig = px.scatter_3d(df_combined, x='pca_1', y='pca_2', z='pca_3', color='hate_label',\n",
    "                    size='normalized_size', hover_name='name_lastname', color_continuous_scale='temps',\n",
    "                    range_color=[0, 2], size_max=50, custom_data=['hate_label', 'name_lastname', 'nr_followers', 'hate_label_name'])\n",
    "\n",
    "fig.update_layout(\n",
    "    scene=dict(\n",
    "        xaxis_title='PCA 1',\n",
    "        yaxis_title='PCA 2',\n",
    "        zaxis_title='PCA 3',\n",
    "        camera=dict(\n",
    "            eye=dict(x=1, y=-1.5, z=1)\n",
    "        )\n",
    "    ),\n",
    "    margin=dict(l=0, r=0, b=0, t=0)\n",
    ")\n",
    "\n",
    "fig.update_traces(opacity=1, marker=dict(symbol='circle'), hovertemplate='<b>%{hovertext}</b><br>Hate Label: %{customdata[3]}<br>Followers: %{customdata[2]:,.0f}')\n",
    "fig.update_layout(coloraxis_colorbar=dict(title='Hate Label'), coloraxis_colorbar_len=1, coloraxis_colorbar_thickness=15)\n",
    "\n",
    "\n",
    "fig.show()"
   ]
  },
  {
   "cell_type": "code",
   "execution_count": null,
   "metadata": {},
   "outputs": [],
   "source": []
  }
 ],
 "metadata": {
  "kernelspec": {
   "display_name": "lewagon",
   "language": "python",
   "name": "python3"
  },
  "language_info": {
   "codemirror_mode": {
    "name": "ipython",
    "version": 3
   },
   "file_extension": ".py",
   "mimetype": "text/x-python",
   "name": "python",
   "nbconvert_exporter": "python",
   "pygments_lexer": "ipython3",
   "version": "3.10.6"
  },
  "orig_nbformat": 4
 },
 "nbformat": 4,
 "nbformat_minor": 2
}
